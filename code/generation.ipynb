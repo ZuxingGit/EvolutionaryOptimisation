{
 "cells": [
  {
   "cell_type": "code",
   "execution_count": 98,
   "metadata": {},
   "outputs": [],
   "source": [
    "import random\n",
    "import matplotlib.pyplot as plt\n",
    "from shapely.geometry import Polygon"
   ]
  },
  {
   "cell_type": "markdown",
   "metadata": {},
   "source": [
    "# Set constraints\n",
    "## Land boundry"
   ]
  },
  {
   "cell_type": "code",
   "execution_count": 99,
   "metadata": {},
   "outputs": [],
   "source": [
    "min_house_width = 6\n",
    "max_house_width = 18\n",
    "\n",
    "min_house_depth = 8\n",
    "max_house_depth = 25\n",
    "\n",
    "# house_width = random.randint(min_house_width, max_house_width)\n",
    "# house_depth = random.randint(min_house_depth, max_house_depth)\n",
    "\n",
    "# set manually for now\n",
    "house_width = 10\n",
    "house_depth = 15\n",
    "\n",
    "boundary = Polygon([(0, 0), (house_width, 0), (house_width, house_depth), (0, house_depth)])"
   ]
  },
  {
   "cell_type": "markdown",
   "metadata": {},
   "source": [
    "## Rooms size range"
   ]
  },
  {
   "cell_type": "code",
   "execution_count": 100,
   "metadata": {},
   "outputs": [],
   "source": [
    "# Define room types (type, min_width, max_width, min_depth, max_depth)\n",
    "rooms_range = [\n",
    "    (\"LR\", 3, 6, 3, 6),     #Living Room     \n",
    "    (\"MBR\", 3, 6, 3, 6),    #Master Bedroom\n",
    "    (\"BR\", 3, 4.5, 3, 4.5), #Bedroom\n",
    "    # (\"BR2\", 3, 4.5, 3, 4.5),       #Bedroom2\n",
    "    (\"KIC\", 2, 4, 2, 4),    #Kitchen     \n",
    "    (\"BA\", 2, 4, 2, 5),     #Bathroom\n",
    "    (\"HW\", 1, 1.5, 2, 10),  #Hallway\n",
    "    (\"BAL\", 1, 2, 2, 8),    #Balcony\n",
    "    (\"DR\", 3, 5, 3, 5),  #Dining Room\n",
    "]"
   ]
  },
  {
   "cell_type": "markdown",
   "metadata": {},
   "source": [
    "## Components size range\n",
    "**window & door**"
   ]
  },
  {
   "cell_type": "code",
   "execution_count": 101,
   "metadata": {},
   "outputs": [],
   "source": [
    "min_window_width = 0.5\n",
    "max_window_width = 1.5\n",
    "\n",
    "min_door_width = 0.5\n",
    "max_door_width = 1.5\n"
   ]
  },
  {
   "cell_type": "markdown",
   "metadata": {},
   "source": [
    "# Room class"
   ]
  },
  {
   "cell_type": "code",
   "execution_count": 102,
   "metadata": {},
   "outputs": [],
   "source": [
    "class Room:\n",
    "    def __init__(self, name, width, depth, x, y):\n",
    "        self.name = name\n",
    "        self.width = width\n",
    "        self.depth = depth\n",
    "        self.x = x\n",
    "        self.y = y\n",
    "\n",
    "    def get_polygon(self):\n",
    "        return Polygon([(self.x, self.y), (self.x + self.width, self.y), (self.x + self.width, self.y + self.depth), (self.x, self.y + self.depth)])\n",
    "    \n",
    "    def __str__(self):\n",
    "        return f\"{self.name} width: {self.width}, depth: {self.depth} at ({self.x}, {self.y})\""
   ]
  },
  {
   "cell_type": "markdown",
   "metadata": {},
   "source": [
    "# House class"
   ]
  },
  {
   "cell_type": "code",
   "execution_count": 103,
   "metadata": {},
   "outputs": [],
   "source": [
    "class House:\n",
    "    def __init__(self, rooms, boundary):\n",
    "        self.rooms = rooms\n",
    "        self.cluster = self.get_cluster()\n",
    "        self.boundary = boundary\n",
    "\n",
    "    # combine rooms into a cluster polygon\n",
    "    def get_cluster(self):\n",
    "        cluster = Polygon()\n",
    "        for room in self.rooms:\n",
    "            cluster = cluster.union(room.get_polygon())\n",
    "        return cluster"
   ]
  },
  {
   "cell_type": "markdown",
   "metadata": {},
   "source": [
    "# Feasibility check Function(s)"
   ]
  },
  {
   "cell_type": "code",
   "execution_count": 104,
   "metadata": {},
   "outputs": [],
   "source": [
    "def is_valid_placement(rect, cluster, boundary):\n",
    "    # check if the rectangle is within the house land\n",
    "    if not boundary.contains(rect):\n",
    "        return False\n",
    "    \n",
    "    # check if the rectangle attaches to the cluster, neither overlap nor separate\n",
    "    if cluster is None:\n",
    "        return True\n",
    "    elif cluster.touches(rect):\n",
    "        touch_part = cluster.intersection(rect)\n",
    "        # not just a point touching\n",
    "        if touch_part.geom_type in [\"LineString\", \"MultiLineString\"]:\n",
    "            return True\n",
    "        else:\n",
    "            return False\n",
    "    else:\n",
    "        return False"
   ]
  },
  {
   "cell_type": "markdown",
   "metadata": {},
   "source": [
    "# Generate!"
   ]
  },
  {
   "cell_type": "code",
   "execution_count": 105,
   "metadata": {},
   "outputs": [],
   "source": [
    "def generate_house(boundary, rooms_range):\n",
    "    placed_rooms = []\n",
    "    cluster = None\n",
    "\n",
    "    for room_type, min_width, max_width, min_depth, max_depth in rooms_range:\n",
    "        placed = False\n",
    "        iteration_times = 0\n",
    "\n",
    "        while not placed and iteration_times < 1000:    \n",
    "            width = round(random.uniform(min_width, max_width)/granularity_size) * granularity_size\n",
    "            depth = round(random.uniform(min_depth, max_depth)/granularity_size) * granularity_size\n",
    "            \n",
    "            if not placed_rooms:\n",
    "                # place the first room\n",
    "                x = round(random.uniform(0, house_width - width)/granularity_size) * granularity_size\n",
    "                y = round(random.uniform(0, house_depth - depth)/granularity_size) * granularity_size\n",
    "            else:\n",
    "                # Add new room adjacent to an existing room\n",
    "                base_room = random.choice(placed_rooms)\n",
    "                bottom_left = base_room.x, base_room.y\n",
    "                bottom_right = base_room.x + base_room.width, base_room.y\n",
    "                top_right = base_room.x + base_room.width, base_room.y + base_room.depth\n",
    "                top_left = base_room.x, base_room.y + base_room.depth\n",
    "\n",
    "                direction = random.choice([\"left\", \"right\", \"up\", \"down\"])\n",
    "                if direction == \"left\":\n",
    "                    # top or bottom\n",
    "                    random_int = random.randint(0, 1)\n",
    "                    if random_int == 0:\n",
    "                        x = bottom_left[0] - width\n",
    "                        y = bottom_left[1]\n",
    "                    else:\n",
    "                        x = top_left[0] - width\n",
    "                        y = top_left[1] - depth\n",
    "                elif direction == \"right\":\n",
    "                    # top or bottom\n",
    "                    random_int = random.randint(0, 1)\n",
    "                    if random_int == 0:\n",
    "                        x = bottom_right[0]\n",
    "                        y = bottom_right[1]\n",
    "                    else:\n",
    "                        x = top_right[0]\n",
    "                        y = top_right[1] - depth\n",
    "                elif direction == \"up\":\n",
    "                    # left or right\n",
    "                    random_int = random.randint(0, 1)\n",
    "                    if random_int == 0:\n",
    "                        x = top_left[0]\n",
    "                        y = top_left[1]\n",
    "                    else:\n",
    "                        x = top_right[0] - width\n",
    "                        y = top_right[1]\n",
    "                elif direction == \"down\":\n",
    "                    # left or right\n",
    "                    random_int = random.randint(0, 1)\n",
    "                    if random_int == 0:\n",
    "                        x = bottom_left[0]\n",
    "                        y = bottom_left[1] - depth\n",
    "                    else:\n",
    "                        x = bottom_right[0] - width\n",
    "                        y = bottom_right[1] - depth\n",
    "                    \n",
    "            new_room = Room(room_type, width, depth, x, y)\n",
    "\n",
    "            if is_valid_placement(new_room.get_polygon(), cluster, boundary):\n",
    "                placed_rooms.append(new_room)\n",
    "                if cluster is None:\n",
    "                    cluster = new_room.get_polygon()\n",
    "                else:\n",
    "                    cluster = cluster.union(new_room.get_polygon())\n",
    "                placed = True\n",
    "            iteration_times += 1\n",
    "        if not placed:\n",
    "            print(f\"Failed to place {room_type} after 1000 iterations\")\n",
    "                \n",
    "            \n",
    "    return placed_rooms, cluster"
   ]
  },
  {
   "cell_type": "markdown",
   "metadata": {},
   "source": [
    "# Fitness of previous Evaluation indicators"
   ]
  },
  {
   "cell_type": "markdown",
   "metadata": {},
   "source": [
    "## 1. dis (MBR, BR) +"
   ]
  },
  {
   "cell_type": "code",
   "execution_count": 106,
   "metadata": {},
   "outputs": [],
   "source": [
    "# calculate the distance between the center of the master bedroom and bedroom\n",
    "# normalize the distance\n",
    "def dis_MBR_BR(house):\n",
    "    MBR = None\n",
    "    BR = None\n",
    "    for room in house.rooms:\n",
    "        if room.name == \"MBR\":\n",
    "            MBR = room\n",
    "        if room.name == \"BR\":\n",
    "            BR = room\n",
    "    if MBR is None or BR is None:\n",
    "        return 0\n",
    "    mbr_center = (MBR.x + MBR.width/2, MBR.y + MBR.depth/2)\n",
    "    br_center = (BR.x + BR.width/2, BR.y + BR.depth/2)\n",
    "    min_dis = min(MBR.width + BR.width, MBR.depth + BR.depth)\n",
    "    # diagonal distance is the possible max distance between two points\n",
    "    max_dis = (boundary.bounds[2]**2 + boundary.bounds[3]**2)**0.5\n",
    "    distance = ((mbr_center[0] - br_center[0])**2 + (mbr_center[1] - br_center[1])**2)**0.5\n",
    "\n",
    "    normalized_distance = (distance - min_dis) / (max_dis - min_dis)\n",
    "\n",
    "    return normalized_distance"
   ]
  },
  {
   "cell_type": "markdown",
   "metadata": {},
   "source": [
    "## 2. dis (MBR, BA) +"
   ]
  },
  {
   "cell_type": "code",
   "execution_count": 107,
   "metadata": {},
   "outputs": [],
   "source": [
    "# calculate the distance between the center of the master bedroom and bathroom\n",
    "# normalize it\n",
    "def dis_MBR_BA(house):\n",
    "    MBR = None\n",
    "    BA = None\n",
    "    for room in house.rooms:\n",
    "        if room.name == \"MBR\":\n",
    "            MBR = room\n",
    "        if room.name == \"BA\":\n",
    "            BA = room\n",
    "    if MBR is None or BA is None:\n",
    "        return 0\n",
    "    mbr_center = (MBR.x + MBR.width/2, MBR.y + MBR.depth/2)\n",
    "    ba_center = (BA.x + BA.width/2, BA.y + BA.depth/2)\n",
    "    min_dis = min(MBR.width + BA.width, MBR.depth + BA.depth)\n",
    "    max_dis = (boundary.bounds[2]**2 + boundary.bounds[3]**2)**0.5\n",
    "    distance = ((mbr_center[0] - ba_center[0])**2 + (mbr_center[1] - ba_center[1])**2)**0.5\n",
    "\n",
    "    normalized_distance = (distance - min_dis) / (max_dis - min_dis)\n",
    "\n",
    "    return normalized_distance"
   ]
  },
  {
   "cell_type": "markdown",
   "metadata": {},
   "source": [
    "## 3. Orientation of LR +\n",
    "(0: north; 1: south) , 1 is preferred (in Northern hemisphere)"
   ]
  },
  {
   "cell_type": "code",
   "execution_count": 108,
   "metadata": {},
   "outputs": [],
   "source": [
    "# check the orientation of living room\n",
    "def check_LR_orientation(house):\n",
    "    LR = None\n",
    "    for room in house.rooms:\n",
    "        if room.name == \"LR\":\n",
    "            LR = room\n",
    "    if LR is None:\n",
    "        return 0\n",
    "    \n",
    "    min_y_cluster = house.cluster.bounds[1]\n",
    "    min_y_LV = LR.get_polygon().bounds[1]\n",
    "\n",
    "    if min_y_LV <= min_y_cluster:\n",
    "        return 1\n",
    "    else:\n",
    "        return 0\n"
   ]
  },
  {
   "cell_type": "markdown",
   "metadata": {},
   "source": [
    "## 5. Ventilation +\n",
    "(Ratio of width to depth of floor plan)  \n",
    "to be maximized"
   ]
  },
  {
   "cell_type": "code",
   "execution_count": 109,
   "metadata": {},
   "outputs": [],
   "source": [
    "# Calculate the Ration of width to depth of the whole house\n",
    "def width_depth_ratio(house):\n",
    "    house_width = house.cluster.bounds[2]\n",
    "    house_depth = house.cluster.bounds[3]\n",
    "\n",
    "    min_ratio = 0.2\n",
    "    max_ratio = 5.0\n",
    "\n",
    "    ratio = house_width / house_depth\n",
    "    normalized_ratio = (ratio - min_ratio) / (max_ratio - min_ratio)\n",
    "\n",
    "    return normalized_ratio"
   ]
  },
  {
   "cell_type": "markdown",
   "metadata": {},
   "source": [
    "## 7. % of hall -"
   ]
  },
  {
   "cell_type": "code",
   "execution_count": 110,
   "metadata": {},
   "outputs": [],
   "source": [
    "# Calculate the % of hallway area in the interior_area\n",
    "def percentage_hall(house):\n",
    "    hall_area = 0\n",
    "    interior_area = 0\n",
    "    for room in house.rooms:\n",
    "        if room.name == \"HW\":\n",
    "            hall_area += room.width * room.depth\n",
    "        elif room.name != \"BAL\":\n",
    "            interior_area += room.width * room.depth\n",
    "\n",
    "    per_hall = hall_area / interior_area if interior_area != 0 else 0\n",
    "\n",
    "    return 1 - per_hall"
   ]
  },
  {
   "cell_type": "markdown",
   "metadata": {},
   "source": [
    "## 8. % of balcony +"
   ]
  },
  {
   "cell_type": "code",
   "execution_count": 111,
   "metadata": {},
   "outputs": [],
   "source": [
    "# Calculate the % of balcony area in the interior_area\n",
    "def percentage_balcony(house):\n",
    "    balcony_area = 0\n",
    "    interior_area = 0\n",
    "    for room in house.rooms:\n",
    "        if room.name == \"BAL\":\n",
    "            balcony_area += room.width * room.depth\n",
    "        elif room.name != \"BAL\":\n",
    "            interior_area += room.width * room.depth\n",
    "\n",
    "    per_balcony = balcony_area / interior_area if interior_area != 0 else 0\n",
    "\n",
    "    return per_balcony"
   ]
  },
  {
   "cell_type": "markdown",
   "metadata": {},
   "source": [
    "## 9. Efficiency rate of the house +"
   ]
  },
  {
   "cell_type": "code",
   "execution_count": 112,
   "metadata": {},
   "outputs": [],
   "source": [
    "# the percentage of interior area to the total area\n",
    "def percentage_interior(house):\n",
    "    interior_area = 0\n",
    "    total_area = house.cluster.area\n",
    "    for room in house.rooms:\n",
    "        if room.name != \"BAL\":\n",
    "            interior_area += room.width * room.depth\n",
    "\n",
    "    per_interior = interior_area / total_area\n",
    "\n",
    "    return per_interior"
   ]
  },
  {
   "cell_type": "markdown",
   "metadata": {},
   "source": [
    "## //10. DIS (BR, BA) -"
   ]
  },
  {
   "cell_type": "code",
   "execution_count": null,
   "metadata": {},
   "outputs": [],
   "source": []
  },
  {
   "cell_type": "markdown",
   "metadata": {},
   "source": [
    "# ▶︎Fitness calculation\n",
    "- overlap penalty  \n",
    "- space usage rate"
   ]
  },
  {
   "cell_type": "code",
   "execution_count": null,
   "metadata": {},
   "outputs": [],
   "source": [
    "def fitness_function(house):\n",
    "    # Evaluate both continuous (room sizes) and discrete (room positions) variables\n",
    "    rooms = house.rooms\n",
    "    boundary_area = house.boundary.area\n",
    "    cluster_area = house.cluster.area\n",
    "\n",
    "    # -1. normalized overlap rate -\n",
    "    all_rooms_area = sum(room.width * room.depth for room in rooms)\n",
    "    overlap_rate = (all_rooms_area - cluster_area) / boundary_area\n",
    "    # print(overlap_rate)\n",
    "\n",
    "    # -2. space usage rate +\n",
    "    # print(\"Boundray area: \", boundary_area)\n",
    "    space_usage_rate = cluster_area / boundary_area\n",
    "    # print(space_usage_rate)\n",
    "\n",
    "    # 1. distance between MBR and BR\n",
    "    # fit_1 = dis_MBR_BR(house)\n",
    "    \n",
    "    return (1 - overlap_rate) + space_usage_rate + dis_MBR_BR(house) + dis_MBR_BA(house) + check_LR_orientation(house) + width_depth_ratio(house) + percentage_hall(house) \n",
    "\n",
    "# print(fitness_function(house_example))"
   ]
  },
  {
   "cell_type": "markdown",
   "metadata": {},
   "source": [
    "# * Parameters"
   ]
  },
  {
   "cell_type": "code",
   "execution_count": 114,
   "metadata": {},
   "outputs": [],
   "source": [
    "granularity_size = 0.5\n",
    "granularity_position = 0.5\n",
    "\n",
    "pso_iter = 200\n",
    "particle_num = 50\n",
    "mcts_iter = 150\n"
   ]
  },
  {
   "cell_type": "markdown",
   "metadata": {},
   "source": [
    "# Draw house function"
   ]
  },
  {
   "cell_type": "code",
   "execution_count": 115,
   "metadata": {},
   "outputs": [],
   "source": [
    "def draw_house_cluster(house, fitness):\n",
    "    rooms = house.rooms\n",
    "    boundary = house.boundary\n",
    "    plt.figure(figsize=(10, 6)) \n",
    "    x, y = boundary.exterior.xy\n",
    "    plt.plot(x, y, color=\"black\")\n",
    "    plt.fill(x, y, color='grey', alpha=0.1)\n",
    "    for i, room in enumerate(rooms):\n",
    "        room_polygon = room.get_polygon()\n",
    "        x, y = room_polygon.exterior.xy\n",
    "        plt.fill(x, y, alpha=0.8)\n",
    "        plt.plot(x, y, alpha=0.9)\n",
    "        plt.text(room_polygon.centroid.x, room_polygon.centroid.y, room.name, ha=\"center\", va=\"center\")\n",
    "\n",
    "    plt.gca().set_aspect(\"equal\", adjustable=\"box\")\n",
    "    plt.gca().spines[\"right\"].set_visible(False)\n",
    "    plt.gca().spines[\"top\"].set_visible(False)\n",
    "    plt.grid(True, linestyle='--', alpha=0.1)\n",
    "    plt.title(f\"Fitness: {fitness}\")\n",
    "    plt.show()"
   ]
  },
  {
   "cell_type": "markdown",
   "metadata": {},
   "source": [
    "# Display the result"
   ]
  },
  {
   "cell_type": "code",
   "execution_count": 116,
   "metadata": {},
   "outputs": [
    {
     "name": "stdout",
     "output_type": "stream",
     "text": [
      "LR width: 3.5, depth: 3.0 at (2.5, 4.0)\n",
      "MBR width: 4.0, depth: 5.5 at (6.0, 1.5)\n",
      "BR width: 4.5, depth: 3.5 at (1.5, 7.0)\n",
      "KIC width: 2.0, depth: 2.5 at (6.0, 7.0)\n",
      "BA width: 3.5, depth: 3.5 at (6.0, 9.5)\n",
      "HW width: 1.0, depth: 2.5 at (5.0, 10.5)\n",
      "BAL width: 1.5, depth: 5.5 at (1.0, 1.5)\n",
      "DR width: 4.5, depth: 3.5 at (0.5, 10.5)\n"
     ]
    },
    {
     "data": {
      "image/png": "[encoded data removed]",
      "text/plain": [
       "<Figure size 1000x600 with 1 Axes>"
      ]
     },
     "metadata": {},
     "output_type": "display_data"
    }
   ],
   "source": [
    "rooms_example, cluster = generate_house(boundary, rooms_range)\n",
    "house_example = House(rooms_example, boundary)\n",
    "for room in rooms_example:\n",
    "    print(room)\n",
    "\n",
    "fitness = fitness_function(house_example)\n",
    "draw_house_cluster(house_example, fitness)"
   ]
  },
  {
   "cell_type": "markdown",
   "metadata": {},
   "source": [
    "# Function to Save Snapshots"
   ]
  },
  {
   "cell_type": "code",
   "execution_count": 117,
   "metadata": {},
   "outputs": [],
   "source": [
    "import os\n",
    "\n",
    "# Function to save snapshots\n",
    "def save_snapshots(starting_time, current_layout, iteration_count, fitness):\n",
    "    plt.figure(figsize=(10, 6)) \n",
    "    x, y = current_layout.boundary.exterior.xy\n",
    "    plt.plot(x, y, color=\"black\")\n",
    "    plt.fill(x, y, color='grey', alpha=0.1)\n",
    "    for i, room in enumerate(current_layout.rooms):\n",
    "        room_polygon = room.get_polygon()\n",
    "        x, y = room_polygon.exterior.xy\n",
    "        plt.fill(x, y, alpha=0.8)\n",
    "        plt.plot(x, y, alpha=0.9)\n",
    "        plt.text(room_polygon.centroid.x, room_polygon.centroid.y, room.name, ha=\"center\", va=\"center\")\n",
    "\n",
    "    plt.gca().set_aspect(\"equal\", adjustable=\"box\")\n",
    "    plt.gca().spines[\"right\"].set_visible(False)\n",
    "    plt.gca().spines[\"top\"].set_visible(False)\n",
    "    plt.grid(True, linestyle='--', alpha=0.1)\n",
    "    plt.title(f\"Fitness: {fitness}\")\n",
    "    # create target folder if not exists\n",
    "    if not os.path.exists(f\"results/{starting_time}\"):\n",
    "        os.makedirs(f\"results/{starting_time}\")\n",
    "    plt.savefig(f\"results/{starting_time}/{iteration_count}.png\")\n",
    "        \n",
    "    plt.close()"
   ]
  },
  {
   "cell_type": "markdown",
   "metadata": {},
   "source": [
    "# PSO-MCTS\n",
    "## PSO"
   ]
  },
  {
   "cell_type": "code",
   "execution_count": 118,
   "metadata": {},
   "outputs": [],
   "source": [
    "import math\n",
    "import random\n",
    "import numpy as np\n",
    "from datetime import datetime\n",
    "from collections import defaultdict\n",
    "\n",
    "from shapely import Point\n",
    "\n",
    "class PSO:\n",
    "    def __init__(self, rooms_range, num_particles, max_iter):\n",
    "        self.rooms_range = rooms_range\n",
    "        self.num_particles = num_particles\n",
    "        self.max_iter = max_iter\n",
    "        self.gbest_fitness = -float('inf')\n",
    "        self.gbest_sizes = []\n",
    "        self.gbest_layout = None\n",
    "        \n",
    "        # Initialize particles\n",
    "        self.particles = []\n",
    "        for _ in range(num_particles):\n",
    "            particle = {\n",
    "                'sizes': [self.random_size(room) for room in rooms_range],\n",
    "                'velocity': [[0, 0] for _ in rooms_range],\n",
    "                'pbest_fitness': -float('inf'),\n",
    "                'pbest_sizes': []\n",
    "            }\n",
    "            self.particles.append(particle)\n",
    "\n",
    "    def random_size(self, room):\n",
    "        min_w, max_w, min_d, max_d = room[1:]\n",
    "        return [\n",
    "            round(random.uniform(min_w, max_w) / granularity_size) * granularity_size,\n",
    "            round(random.uniform(min_d, max_d) / granularity_size) * granularity_size\n",
    "        ]\n",
    "\n",
    "    def optimize(self, boundary):\n",
    "        current_time = datetime.now().strftime(\"%Y%m%d-%H%M%S\")\n",
    "        for _ in range(self.max_iter):\n",
    "            for particle in self.particles:\n",
    "                # Evaluate fitness using MCTS\n",
    "                rooms = []\n",
    "                for i, size in enumerate(particle['sizes']):\n",
    "                    rooms.append((self.rooms_range[i][0], size[0], size[1]))\n",
    "                \n",
    "                mcts = MCTS(boundary, rooms)\n",
    "                best_layout = mcts.search()\n",
    "                # print(\"Best layout:\", len(best_layout.rooms))\n",
    "                fitness = fitness_function(best_layout)\n",
    "                \n",
    "                # Update personal best\n",
    "                if fitness > particle['pbest_fitness']:\n",
    "                    particle['pbest_fitness'] = fitness\n",
    "                    particle['pbest_sizes'] = particle['sizes'].copy()\n",
    "                \n",
    "                # Update global best\n",
    "                if fitness > self.gbest_fitness:\n",
    "                    self.gbest_fitness = fitness\n",
    "                    self.gbest_sizes = particle['sizes'].copy()\n",
    "                    self.gbest_layout = best_layout\n",
    "            \n",
    "            # Update velocities and positions\n",
    "            for particle in self.particles:\n",
    "                for i in range(len(particle['sizes'])):\n",
    "                    w = 0.5  # inertia\n",
    "                    c1 = 0.6    # cognitive\n",
    "                    c2 = 0.9    # social\n",
    "                    \n",
    "                    v = [\n",
    "                        w * particle['velocity'][i][0] + \\\n",
    "                        c1 * random.random() * (particle['pbest_sizes'][i][0] - particle['sizes'][i][0]) + \\\n",
    "                        c2 * random.random() * (self.gbest_sizes[i][0] - particle['sizes'][i][0]),\n",
    "                        w * particle['velocity'][i][1] + \\\n",
    "                        c1 * random.random() * (particle['pbest_sizes'][i][1] - particle['sizes'][i][1]) + \\\n",
    "                        c2 * random.random() * (self.gbest_sizes[i][1] - particle['sizes'][i][1])\n",
    "                    ]\n",
    "                    \n",
    "                    particle['velocity'][i] = v\n",
    "                    particle['sizes'][i] = [\n",
    "                        max(min(round((particle['sizes'][i][0] + v[0])/granularity_size)*granularity_size, self.rooms_range[i][2]), self.rooms_range[i][1]),\n",
    "                        max(min(round((particle['sizes'][i][1] + v[1])/granularity_size)*granularity_size, self.rooms_range[i][4]), self.rooms_range[i][3])\n",
    "                    ]\n",
    "\n",
    "            # Save snapshots, the initial, final and every 25 iterations\n",
    "            if _ == 0 or _ == self.max_iter - 1 or _ % 25 == 0:\n",
    "                # force the count number to be like: 0001, 0002, 0003, ...\n",
    "                save_snapshots(current_time, self.gbest_layout, str(_).zfill(4), self.gbest_fitness)\n",
    "        \n",
    "        return self.gbest_layout"
   ]
  },
  {
   "cell_type": "markdown",
   "metadata": {},
   "source": [
    "## MCTS"
   ]
  },
  {
   "cell_type": "markdown",
   "metadata": {},
   "source": [
    "### MCTS Node"
   ]
  },
  {
   "cell_type": "code",
   "execution_count": 119,
   "metadata": {},
   "outputs": [],
   "source": [
    "class MCTSNode:\n",
    "    def __init__(self, state, parent=None, action=None):\n",
    "        self.state = state\n",
    "        self.parent = parent\n",
    "        self.action = action\n",
    "        self.children = []\n",
    "        self.visits = 0\n",
    "        self.value = 0\n",
    "        self.untried_actions = state.get_legal_actions()"
   ]
  },
  {
   "cell_type": "markdown",
   "metadata": {},
   "source": [
    "### LayoutState"
   ]
  },
  {
   "cell_type": "markdown",
   "metadata": {},
   "source": [
    "### MCTS algorithm"
   ]
  },
  {
   "cell_type": "code",
   "execution_count": 120,
   "metadata": {},
   "outputs": [],
   "source": [
    "class MCTS:\n",
    "    def __init__(self, boundary, rooms, iterations=mcts_iter, exploration=1.414):\n",
    "        self.boundary = boundary\n",
    "        self.rooms = rooms\n",
    "        self.iterations = iterations\n",
    "        self.exploration = exploration\n",
    "\n",
    "    def search(self):\n",
    "        root_state = LayoutState(self.boundary, self.rooms)\n",
    "        root_node = MCTSNode(root_state)\n",
    "        best_reward = -float('inf')\n",
    "        best_state = None\n",
    "        \n",
    "        for _ in range(self.iterations):\n",
    "            node = root_node\n",
    "            state = root_state.copy()\n",
    "            valid_simulation = True\n",
    "            \n",
    "            # Selection with validity check\n",
    "            while node.untried_actions == [] and node.children != []:\n",
    "                # print(\"Selecting child\")\n",
    "                node = self.select_child(node)\n",
    "                if not state.place_room(node.action):\n",
    "                    valid_simulation = False\n",
    "                    break\n",
    "            \n",
    "            if not valid_simulation:\n",
    "                continue  # Skip invalid paths \n",
    "\n",
    "            # Expansion with smart action selection \n",
    "            if node.untried_actions:\n",
    "                action = random.choice(node.untried_actions)\n",
    "                # print(\"Expanding with action\")\n",
    "                if state.place_room(action):\n",
    "                    node.untried_actions.remove(action)\n",
    "                    new_node = MCTSNode(state.copy(), node, action)\n",
    "                    node.children.append(new_node)\n",
    "                    node = new_node\n",
    "            \n",
    "            # Enhanced simulation with retry mechanism \n",
    "            simulation_state = state.copy()\n",
    "            max_attempts = 100\n",
    "            attempts = 0\n",
    "            while not simulation_state.all_placed() and attempts < max_attempts:\n",
    "                legal_actions = simulation_state.get_legal_actions()\n",
    "                if not legal_actions:\n",
    "                    valid_simulation = False\n",
    "                    break\n",
    "                action = random.choice(legal_actions)\n",
    "                if not simulation_state.place_room(action):\n",
    "                    valid_simulation = False\n",
    "                    break\n",
    "                # print(\"Correct place?:\", simulation_state.place_room(action))\n",
    "\n",
    "                attempts += 1\n",
    "\n",
    "            # Reward calculation \n",
    "            if not valid_simulation:\n",
    "                reward = 0.0\n",
    "            elif simulation_state.all_placed():\n",
    "                reward = fitness_function(simulation_state.get_house())\n",
    "                if reward > best_reward:\n",
    "                    best_reward = reward\n",
    "                    best_state = simulation_state\n",
    "            \n",
    "            # Backpropagation\n",
    "            current_node = node\n",
    "            while current_node is not None:\n",
    "                current_node.visits += 1\n",
    "                current_node.value += reward\n",
    "                current_node = current_node.parent\n",
    "        \n",
    "        # print(\"Reward:\", reward)\n",
    "        # # print(\"node.visits:\", root_node.visits)\n",
    "        # print(\"node.children:\", len(root_node.children))\n",
    "        # # print(\"node.action:\", node.action)\n",
    "        # return self.get_best_layout(root_node.children)\n",
    "        if best_state:\n",
    "            return best_state.get_house()\n",
    "        else:\n",
    "            return self.get_best_layout(root_node.children)\n",
    "    \n",
    "    def select_child(self, node):\n",
    "        log_total = math.log(node.visits)\n",
    "        best_score = -float('inf')\n",
    "        best_child = None\n",
    "        \n",
    "        for child in node.children:\n",
    "            score = child.value / child.visits + self.exploration * math.sqrt(log_total / child.visits)\n",
    "            if score > best_score:\n",
    "                best_score = score\n",
    "                best_child = child\n",
    "        \n",
    "        return best_child\n",
    "    \n",
    "    def get_best_layout(self, children):\n",
    "        best_value = -float('inf')\n",
    "        best_node = None\n",
    "        for child in children:\n",
    "            if child.visits > best_value:\n",
    "                best_value = child.visits\n",
    "                best_node = child\n",
    "        return best_node.state.get_house()"
   ]
  },
  {
   "cell_type": "code",
   "execution_count": 121,
   "metadata": {},
   "outputs": [],
   "source": [
    "class LayoutState:\n",
    "    def __init__(self, boundary, rooms):\n",
    "        self.boundary = boundary\n",
    "        self.rooms = rooms\n",
    "        self.current_room = 0\n",
    "        self.placed_rooms = []\n",
    "        self.cluster = None\n",
    "\n",
    "    def copy(self):\n",
    "        \"\"\"Create a deep copy of the state.\"\"\"\n",
    "        new_state = LayoutState(self.boundary, self.rooms)\n",
    "        new_state.current_room = self.current_room\n",
    "        new_state.placed_rooms = self.placed_rooms.copy()\n",
    "        new_state.cluster = self.cluster\n",
    "        return new_state\n",
    "    \n",
    "    def get_legal_actions(self):\n",
    "        if self.current_room >= len(self.rooms):\n",
    "            return []\n",
    "        \n",
    "        room_type, width, depth = self.rooms[self.current_room]\n",
    "        legal_positions = []\n",
    "        for x in np.arange(0, self.boundary.bounds[2]-width, granularity_position):\n",
    "                for y in np.arange(0, self.boundary.bounds[3]-depth, granularity_position):\n",
    "                    legal_positions.append((x, y))\n",
    "        # # if cluster is None, all positions are legal\n",
    "        # if self.cluster is None:\n",
    "        #     for x in np.arange(0, self.boundary.bounds[2]-width, granularity):\n",
    "        #         for y in np.arange(0, self.boundary.bounds[3]-depth, granularity):\n",
    "        #             legal_positions.append((x, y))\n",
    "        # # if cluster is not None, only positions that not in the cluster are legal\n",
    "        # else:\n",
    "        #     for x in np.arange(0, self.boundary.bounds[2]-width, granularity):\n",
    "        #         for y in np.arange(0, self.boundary.bounds[3]-depth, granularity):\n",
    "        #             if not Point(x, y).within(self.cluster):\n",
    "        #                 legal_positions.append((x, y))\n",
    "\n",
    "        return legal_positions\n",
    "\n",
    "    def place_room(self, position):\n",
    "        x, y = position\n",
    "        room_type, width, depth = self.rooms[self.current_room]\n",
    "        new_room = Room(room_type, width, depth, x, y)\n",
    "        \n",
    "        # Add buffer to handle geometric issues 💡\n",
    "        try:\n",
    "            new_poly = new_room.get_polygon().buffer(0)\n",
    "            if self.cluster:\n",
    "                combined = self.cluster.buffer(0).union(new_poly)\n",
    "                if not combined.is_valid:\n",
    "                    return False\n",
    "                self.cluster = combined\n",
    "            else:\n",
    "                self.cluster = new_poly\n",
    "            \n",
    "            self.placed_rooms.append(new_room)\n",
    "            # print(\"Placed room:\", len(self.placed_rooms))\n",
    "            self.current_room += 1\n",
    "            # print(\"Current room:\", self.current_room)\n",
    "            return True\n",
    "        except:\n",
    "            return False\n",
    "        \n",
    "    def all_placed(self):\n",
    "        \"\"\"Check if all rooms have been placed.\"\"\"\n",
    "        return self.current_room >= len(self.rooms)\n",
    "    \n",
    "    def get_house(self):\n",
    "        \"\"\"Create a House object from the current state.\"\"\"\n",
    "        # print(\"Placed--rooms:\", len(self.placed_rooms))\n",
    "        return House(self.placed_rooms, self.boundary)"
   ]
  },
  {
   "cell_type": "markdown",
   "metadata": {},
   "source": [
    "# Run PSO-MCTS"
   ]
  },
  {
   "cell_type": "code",
   "execution_count": null,
   "metadata": {},
   "outputs": [],
   "source": [
    "# Modified generate_house function using PSO-MCTS\n",
    "def generate_house_pso_mcts(boundary, rooms_range, pso_iter=pso_iter):\n",
    "    # Optimize room sizes with PSO\n",
    "    pso = PSO(rooms_range, num_particles=particle_num, max_iter=pso_iter)\n",
    "    best_house = pso.optimize(boundary)\n",
    "    # print rooms (name, width, depth, x, y)\n",
    "    for room in best_house.rooms:\n",
    "        print(room)\n",
    "\n",
    "\n",
    "    # final check\n",
    "    if len(best_house.rooms) < len(rooms_range):\n",
    "        print(\"Failed to place all rooms\")\n",
    "    \n",
    "    return best_house\n",
    "\n",
    "# Run the PSO-MCTS algorithm\n",
    "house_example = generate_house_pso_mcts(boundary, rooms_range)\n",
    "\n",
    "if house_example.cluster.is_valid:\n",
    "    # print(f\"Fitness: {fitness_function(house_example):.2f}\")\n",
    "    fitness = fitness_function(house_example)\n",
    "else:\n",
    "    print(\"Generated invalid layout\")\n",
    "\n",
    "draw_house_cluster(house_example, fitness)"
   ]
  },
  {
   "cell_type": "code",
   "execution_count": null,
   "metadata": {},
   "outputs": [
    {
     "name": "stdout",
     "output_type": "stream",
     "text": [
      "MultiPolygon\n"
     ]
    },
    {
     "data": {
      "image/png": "[encoded data removed]",
      "text/plain": [
       "<Figure size 1000x600 with 1 Axes>"
      ]
     },
     "metadata": {},
     "output_type": "display_data"
    }
   ],
   "source": [
    "print(house_example.cluster.geom_type)\n",
    "# draw this cluster\n",
    "plt.figure(figsize=(10, 6))\n",
    "x, y = house_example.boundary.exterior.xy\n",
    "plt.plot(x, y, color=\"black\")\n",
    "plt.fill(x, y, color='grey', alpha=0.1)\n",
    "\n",
    "if house_example.cluster.geom_type == 'MultiPolygon':\n",
    "\tfor poly in house_example.cluster.geoms:\n",
    "\t\tx, y = poly.exterior.xy\n",
    "\t\tplt.plot(x, y, color=\"blue\")\n",
    "\t\tplt.fill(x, y, color='blue', alpha=0.5)\n",
    "else:\n",
    "\tx, y = house_example.cluster.exterior.xy\n",
    "\tplt.plot(x, y, color=\"blue\")\n",
    "\tplt.fill(x, y, color='blue', alpha=0.5)\n",
    "\t# minus the inner part from the exterior\n",
    "\tfor poly in house_example.cluster.interiors:\n",
    "\t\tx_i, y_i = poly.xy\n",
    "\t\tplt.fill(x_i, y_i, color='white')\n",
    "\n",
    "plt.gca().set_aspect(\"equal\", adjustable=\"box\")\n",
    "plt.gca().spines[\"right\"].set_visible(False)\n",
    "plt.gca().spines[\"top\"].set_visible(False)\n",
    "plt.grid(True, linestyle='--', alpha=0.1)\n",
    "plt.title(f\"Fitness: {fitness}\")\n",
    "plt.show()"
   ]
  }
 ],
 "metadata": {
  "kernelspec": {
   "display_name": "research",
   "language": "python",
   "name": "python3"
  },
  "language_info": {
   "codemirror_mode": {
    "name": "ipython",
    "version": 3
   },
   "file_extension": ".py",
   "mimetype": "text/x-python",
   "name": "python",
   "nbconvert_exporter": "python",
   "pygments_lexer": "ipython3",
   "version": "3.12.7"
  }
 },
 "nbformat": 4,
 "nbformat_minor": 2
}
