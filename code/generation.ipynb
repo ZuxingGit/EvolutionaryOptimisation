{
 "cells": [
  {
   "cell_type": "code",
   "execution_count": 449,
   "metadata": {},
   "outputs": [],
   "source": [
    "import random\n",
    "import matplotlib.pyplot as plt\n",
    "from shapely.geometry import Polygon"
   ]
  },
  {
   "cell_type": "markdown",
   "metadata": {},
   "source": [
    "# Set constraints\n",
    "## Land boundry"
   ]
  },
  {
   "cell_type": "code",
   "execution_count": 450,
   "metadata": {},
   "outputs": [],
   "source": [
    "min_house_width = 6\n",
    "max_house_width = 18\n",
    "\n",
    "min_house_depth = 8\n",
    "max_house_depth = 25\n",
    "\n",
    "# house_width = random.randint(min_house_width, max_house_width)\n",
    "# house_depth = random.randint(min_house_depth, max_house_depth)\n",
    "\n",
    "# set manually for now\n",
    "house_width = 10\n",
    "house_depth = 15\n",
    "\n",
    "boundary = Polygon([(0, 0), (house_width, 0), (house_width, house_depth), (0, house_depth)])"
   ]
  },
  {
   "cell_type": "markdown",
   "metadata": {},
   "source": [
    "## Rooms size range"
   ]
  },
  {
   "cell_type": "code",
   "execution_count": 451,
   "metadata": {},
   "outputs": [],
   "source": [
    "# Define room types (type, min_width, max_width, min_depth, max_depth)\n",
    "rooms_range = [\n",
    "    (\"Living Room\", 3, 6, 3, 6),         \n",
    "    (\"Master Bedroom\", 3, 6, 3, 6),     \n",
    "    (\"Bedroom\", 3, 4.5, 3, 4.5), \n",
    "    # (\"Bedroom\", 3, 4.5, 3, 4.5),       \n",
    "    (\"Kitchen\", 2, 4, 2, 4),            \n",
    "    (\"Bathroom\", 2, 4, 2, 5),           \n",
    "    (\"Hallway\", 1, 1.5, 2, 10),\n",
    "    (\"Balcony\", 1, 2, 2, 8),\n",
    "    (\"Dining Room\", 3, 5, 3, 5),  \n",
    "]"
   ]
  },
  {
   "cell_type": "markdown",
   "metadata": {},
   "source": [
    "## Components size range\n",
    "**window & door**"
   ]
  },
  {
   "cell_type": "code",
   "execution_count": 452,
   "metadata": {},
   "outputs": [],
   "source": [
    "min_window_width = 0.5\n",
    "max_window_width = 1.5\n",
    "\n",
    "min_door_width = 0.5\n",
    "max_door_width = 1.5\n"
   ]
  },
  {
   "cell_type": "markdown",
   "metadata": {},
   "source": [
    "# Room class"
   ]
  },
  {
   "cell_type": "code",
   "execution_count": 453,
   "metadata": {},
   "outputs": [],
   "source": [
    "class Room:\n",
    "    def __init__(self, name, width, depth, x, y):\n",
    "        self.name = name\n",
    "        self.width = width\n",
    "        self.depth = depth\n",
    "        self.x = x\n",
    "        self.y = y\n",
    "\n",
    "    def get_polygon(self):\n",
    "        return Polygon([(self.x, self.y), (self.x + self.width, self.y), (self.x + self.width, self.y + self.depth), (self.x, self.y + self.depth)])\n",
    "    \n",
    "    def __str__(self):\n",
    "        return f\"{self.name} width: {self.width}, depth: {self.depth} at ({self.x}, {self.y})\""
   ]
  },
  {
   "cell_type": "markdown",
   "metadata": {},
   "source": [
    "# House class"
   ]
  },
  {
   "cell_type": "code",
   "execution_count": 454,
   "metadata": {},
   "outputs": [],
   "source": [
    "class House:\n",
    "    def __init__(self, rooms, boundary):\n",
    "        self.rooms = rooms\n",
    "        self.cluster = self.get_cluster()\n",
    "        self.boundary = boundary\n",
    "\n",
    "    # combine rooms into a cluster polygon\n",
    "    def get_cluster(self):\n",
    "        cluster = Polygon()\n",
    "        for room in self.rooms:\n",
    "            cluster = cluster.union(room.get_polygon())\n",
    "        return cluster"
   ]
  },
  {
   "cell_type": "markdown",
   "metadata": {},
   "source": [
    "# Feasibility check Function(s)"
   ]
  },
  {
   "cell_type": "code",
   "execution_count": 455,
   "metadata": {},
   "outputs": [],
   "source": [
    "def is_valid_placement(rect, cluster, boundary):\n",
    "    # check if the rectangle is within the house land\n",
    "    if not boundary.contains(rect):\n",
    "        return False\n",
    "    \n",
    "    # check if the rectangle attaches to the cluster, neither overlap nor separate\n",
    "    if cluster is None:\n",
    "        return True\n",
    "    elif cluster.touches(rect):\n",
    "        touch_part = cluster.intersection(rect)\n",
    "        # not just a point touching\n",
    "        if touch_part.geom_type in [\"LineString\", \"MultiLineString\"]:\n",
    "            return True\n",
    "        else:\n",
    "            return False\n",
    "    else:\n",
    "        return False"
   ]
  },
  {
   "cell_type": "markdown",
   "metadata": {},
   "source": [
    "# Generate!"
   ]
  },
  {
   "cell_type": "code",
   "execution_count": 456,
   "metadata": {},
   "outputs": [],
   "source": [
    "def generate_house(boundary, rooms_range):\n",
    "    placed_rooms = []\n",
    "    cluster = None\n",
    "\n",
    "    for room_type, min_width, max_width, min_depth, max_depth in rooms_range:\n",
    "        placed = False\n",
    "        iteration_times = 0\n",
    "\n",
    "        while not placed and iteration_times < 1000:    \n",
    "            width = round(random.uniform(min_width, max_width)/granularity_size) * granularity_size\n",
    "            depth = round(random.uniform(min_depth, max_depth)/granularity_size) * granularity_size\n",
    "            \n",
    "            if not placed_rooms:\n",
    "                # place the first room\n",
    "                x = round(random.uniform(0, house_width - width)/granularity_size) * granularity_size\n",
    "                y = round(random.uniform(0, house_depth - depth)/granularity_size) * granularity_size\n",
    "            else:\n",
    "                # Add new room adjacent to an existing room\n",
    "                base_room = random.choice(placed_rooms)\n",
    "                bottom_left = base_room.x, base_room.y\n",
    "                bottom_right = base_room.x + base_room.width, base_room.y\n",
    "                top_right = base_room.x + base_room.width, base_room.y + base_room.depth\n",
    "                top_left = base_room.x, base_room.y + base_room.depth\n",
    "\n",
    "                direction = random.choice([\"left\", \"right\", \"up\", \"down\"])\n",
    "                if direction == \"left\":\n",
    "                    # top or bottom\n",
    "                    random_int = random.randint(0, 1)\n",
    "                    if random_int == 0:\n",
    "                        x = bottom_left[0] - width\n",
    "                        y = bottom_left[1]\n",
    "                    else:\n",
    "                        x = top_left[0] - width\n",
    "                        y = top_left[1] - depth\n",
    "                elif direction == \"right\":\n",
    "                    # top or bottom\n",
    "                    random_int = random.randint(0, 1)\n",
    "                    if random_int == 0:\n",
    "                        x = bottom_right[0]\n",
    "                        y = bottom_right[1]\n",
    "                    else:\n",
    "                        x = top_right[0]\n",
    "                        y = top_right[1] - depth\n",
    "                elif direction == \"up\":\n",
    "                    # left or right\n",
    "                    random_int = random.randint(0, 1)\n",
    "                    if random_int == 0:\n",
    "                        x = top_left[0]\n",
    "                        y = top_left[1]\n",
    "                    else:\n",
    "                        x = top_right[0] - width\n",
    "                        y = top_right[1]\n",
    "                elif direction == \"down\":\n",
    "                    # left or right\n",
    "                    random_int = random.randint(0, 1)\n",
    "                    if random_int == 0:\n",
    "                        x = bottom_left[0]\n",
    "                        y = bottom_left[1] - depth\n",
    "                    else:\n",
    "                        x = bottom_right[0] - width\n",
    "                        y = bottom_right[1] - depth\n",
    "                    \n",
    "            new_room = Room(room_type, width, depth, x, y)\n",
    "\n",
    "            if is_valid_placement(new_room.get_polygon(), cluster, boundary):\n",
    "                placed_rooms.append(new_room)\n",
    "                if cluster is None:\n",
    "                    cluster = new_room.get_polygon()\n",
    "                else:\n",
    "                    cluster = cluster.union(new_room.get_polygon())\n",
    "                placed = True\n",
    "            iteration_times += 1\n",
    "        if not placed:\n",
    "            print(f\"Failed to place {room_type} after 1000 iterations\")\n",
    "                \n",
    "            \n",
    "    return placed_rooms, cluster"
   ]
  },
  {
   "cell_type": "markdown",
   "metadata": {},
   "source": [
    "# Draw house function"
   ]
  },
  {
   "cell_type": "code",
   "execution_count": 457,
   "metadata": {},
   "outputs": [],
   "source": [
    "def draw_house_cluster(house):\n",
    "    rooms = house.rooms\n",
    "    boundary = house.boundary\n",
    "    plt.figure(figsize=(10, 6)) \n",
    "    x, y = boundary.exterior.xy\n",
    "    plt.plot(x, y, color=\"black\")\n",
    "    plt.fill(x, y, color='grey', alpha=0.1)\n",
    "    for i, room in enumerate(rooms):\n",
    "        room_polygon = room.get_polygon()\n",
    "        x, y = room_polygon.exterior.xy\n",
    "        plt.fill(x, y, alpha=0.8)\n",
    "        plt.plot(x, y, alpha=0.9)\n",
    "        plt.text(room_polygon.centroid.x, room_polygon.centroid.y, f\"R{i+1}\", ha=\"center\", va=\"center\")\n",
    "\n",
    "    plt.gca().set_aspect(\"equal\", adjustable=\"box\")\n",
    "    plt.gca().spines[\"right\"].set_visible(False)\n",
    "    plt.gca().spines[\"top\"].set_visible(False)\n",
    "    plt.grid(True, linestyle='--', alpha=0.1)\n",
    "    plt.show()"
   ]
  },
  {
   "cell_type": "markdown",
   "metadata": {},
   "source": [
    "# Display the result"
   ]
  },
  {
   "cell_type": "code",
   "execution_count": 458,
   "metadata": {},
   "outputs": [
    {
     "name": "stdout",
     "output_type": "stream",
     "text": [
      "Living Room width: 4.5, depth: 3.5 at (0.5, 7.0)\n",
      "Master Bedroom width: 4.0, depth: 5.0 at (1.0, 2.0)\n",
      "Bedroom width: 3.5, depth: 3.5 at (1.5, 10.5)\n",
      "Kitchen width: 2.5, depth: 4.0 at (5.0, 3.0)\n",
      "Bathroom width: 3.0, depth: 3.5 at (5.0, 10.5)\n",
      "Hallway width: 1.5, depth: 3.5 at (5.0, 7.0)\n",
      "Balcony width: 1.5, depth: 4.0 at (7.5, 3.0)\n",
      "Dining Room width: 4.0, depth: 3.0 at (5.0, 0.0)\n"
     ]
    },
    {
     "data": {
      "image/png": "[encoded data removed]",
      "text/plain": [
       "<Figure size 1000x600 with 1 Axes>"
      ]
     },
     "metadata": {},
     "output_type": "display_data"
    }
   ],
   "source": [
    "rooms_example, cluster = generate_house(boundary, rooms_range)\n",
    "house_example = House(rooms_example, boundary)\n",
    "for room in rooms_example:\n",
    "    print(room)\n",
    "draw_house_cluster(house_example)"
   ]
  },
  {
   "cell_type": "markdown",
   "metadata": {},
   "source": [
    "# * Parameters"
   ]
  },
  {
   "cell_type": "code",
   "execution_count": null,
   "metadata": {},
   "outputs": [],
   "source": [
    "granularity_size = 0.5\n",
    "granularity_position = 0.5\n",
    "\n",
    "pso_iter = 200\n",
    "particle_num = 50\n",
    "mcts_iter = 150\n"
   ]
  },
  {
   "cell_type": "markdown",
   "metadata": {},
   "source": [
    "# Fitness calculation\n",
    "- overlap penalty  \n",
    "- space usage rate"
   ]
  },
  {
   "cell_type": "code",
   "execution_count": 483,
   "metadata": {},
   "outputs": [
    {
     "name": "stdout",
     "output_type": "stream",
     "text": [
      "1.8183333333333334\n"
     ]
    }
   ],
   "source": [
    "def fitness_function(house):\n",
    "    # Evaluate both continuous (room sizes) and discrete (room positions) variables\n",
    "    rooms = house.rooms\n",
    "    cluster_area = house.cluster.area\n",
    "    boundary_area = house.boundary.area\n",
    "\n",
    "    # 1. normalized overlap rate -\n",
    "    all_rooms_area = sum(room.width * room.depth for room in rooms)\n",
    "    overlap_rate = (all_rooms_area - cluster_area) / boundary_area\n",
    "    # print(overlap_rate)\n",
    "\n",
    "    # 2. space usage rate +\n",
    "    # print(\"Boundray area: \", boundary_area)\n",
    "    space_usage_rate = all_rooms_area / boundary_area\n",
    "    # print(space_usage_rate)\n",
    "    \n",
    "    return (1 - overlap_rate) + space_usage_rate\n",
    "\n",
    "print(fitness_function(house_example))"
   ]
  },
  {
   "cell_type": "markdown",
   "metadata": {},
   "source": [
    "# Function to save snapshots"
   ]
  },
  {
   "cell_type": "code",
   "execution_count": 484,
   "metadata": {},
   "outputs": [],
   "source": [
    "import os\n",
    "\n",
    "# Function to save snapshots\n",
    "def save_snapshots(starting_time, current_layout, iteration_count, fitness):\n",
    "    plt.figure(figsize=(10, 6)) \n",
    "    x, y = current_layout.boundary.exterior.xy\n",
    "    plt.plot(x, y, color=\"black\")\n",
    "    plt.fill(x, y, color='grey', alpha=0.1)\n",
    "    for i, room in enumerate(current_layout.rooms):\n",
    "        room_polygon = room.get_polygon()\n",
    "        x, y = room_polygon.exterior.xy\n",
    "        plt.fill(x, y, alpha=0.8)\n",
    "        plt.plot(x, y, alpha=0.9)\n",
    "        plt.text(room_polygon.centroid.x, room_polygon.centroid.y, f\"R{i+1}\", ha=\"center\", va=\"center\")\n",
    "\n",
    "    plt.gca().set_aspect(\"equal\", adjustable=\"box\")\n",
    "    plt.gca().spines[\"right\"].set_visible(False)\n",
    "    plt.gca().spines[\"top\"].set_visible(False)\n",
    "    plt.grid(True, linestyle='--', alpha=0.1)\n",
    "    plt.title(f\"Fitness: {fitness}\")\n",
    "    # create target folder if not exists\n",
    "    if not os.path.exists(f\"results/{starting_time}\"):\n",
    "        os.makedirs(f\"results/{starting_time}\")\n",
    "    plt.savefig(f\"results/{starting_time}/{iteration_count}.png\")\n",
    "        \n",
    "    plt.close()"
   ]
  },
  {
   "cell_type": "markdown",
   "metadata": {},
   "source": [
    "# PSO-MCTS\n",
    "## PSO"
   ]
  },
  {
   "cell_type": "code",
   "execution_count": 485,
   "metadata": {},
   "outputs": [],
   "source": [
    "import math\n",
    "import random\n",
    "import numpy as np\n",
    "from datetime import datetime\n",
    "from collections import defaultdict\n",
    "\n",
    "from shapely import Point\n",
    "\n",
    "class PSO:\n",
    "    def __init__(self, rooms_range, num_particles, max_iter):\n",
    "        self.rooms_range = rooms_range\n",
    "        self.num_particles = num_particles\n",
    "        self.max_iter = max_iter\n",
    "        self.gbest_fitness = -float('inf')\n",
    "        self.gbest_sizes = []\n",
    "        self.gbest_layout = None\n",
    "        \n",
    "        # Initialize particles\n",
    "        self.particles = []\n",
    "        for _ in range(num_particles):\n",
    "            particle = {\n",
    "                'sizes': [self.random_size(room) for room in rooms_range],\n",
    "                'velocity': [[0, 0] for _ in rooms_range],\n",
    "                'pbest_fitness': -float('inf'),\n",
    "                'pbest_sizes': []\n",
    "            }\n",
    "            self.particles.append(particle)\n",
    "\n",
    "    def random_size(self, room):\n",
    "        min_w, max_w, min_d, max_d = room[1:]\n",
    "        return [\n",
    "            round(random.uniform(min_w, max_w) / granularity_size) * granularity_size,\n",
    "            round(random.uniform(min_d, max_d) / granularity_size) * granularity_size\n",
    "        ]\n",
    "\n",
    "    def optimize(self, boundary):\n",
    "        current_time = datetime.now().strftime(\"%Y%m%d-%H%M%S\")\n",
    "        for _ in range(self.max_iter):\n",
    "            for particle in self.particles:\n",
    "                # Evaluate fitness using MCTS\n",
    "                rooms = []\n",
    "                for i, size in enumerate(particle['sizes']):\n",
    "                    rooms.append((self.rooms_range[i][0], size[0], size[1]))\n",
    "                \n",
    "                mcts = MCTS(boundary, rooms)\n",
    "                best_layout = mcts.search()\n",
    "                # print(\"Best layout:\", len(best_layout.rooms))\n",
    "                fitness = fitness_function(best_layout)\n",
    "                \n",
    "                # Update personal best\n",
    "                if fitness > particle['pbest_fitness']:\n",
    "                    particle['pbest_fitness'] = fitness\n",
    "                    particle['pbest_sizes'] = particle['sizes'].copy()\n",
    "                \n",
    "                # Update global best\n",
    "                if fitness > self.gbest_fitness:\n",
    "                    self.gbest_fitness = fitness\n",
    "                    self.gbest_sizes = particle['sizes'].copy()\n",
    "                    self.gbest_layout = best_layout\n",
    "            \n",
    "            # Update velocities and positions\n",
    "            for particle in self.particles:\n",
    "                for i in range(len(particle['sizes'])):\n",
    "                    w = 0.5  # inertia\n",
    "                    c1 = 0.6    # cognitive\n",
    "                    c2 = 0.9    # social\n",
    "                    \n",
    "                    v = [\n",
    "                        w * particle['velocity'][i][0] + \\\n",
    "                        c1 * random.random() * (particle['pbest_sizes'][i][0] - particle['sizes'][i][0]) + \\\n",
    "                        c2 * random.random() * (self.gbest_sizes[i][0] - particle['sizes'][i][0]),\n",
    "                        w * particle['velocity'][i][1] + \\\n",
    "                        c1 * random.random() * (particle['pbest_sizes'][i][1] - particle['sizes'][i][1]) + \\\n",
    "                        c2 * random.random() * (self.gbest_sizes[i][1] - particle['sizes'][i][1])\n",
    "                    ]\n",
    "                    \n",
    "                    particle['velocity'][i] = v\n",
    "                    particle['sizes'][i] = [\n",
    "                        max(min(round((particle['sizes'][i][0] + v[0])/granularity_size)*granularity_size, self.rooms_range[i][2]), self.rooms_range[i][1]),\n",
    "                        max(min(round((particle['sizes'][i][1] + v[1])/granularity_size)*granularity_size, self.rooms_range[i][4]), self.rooms_range[i][3])\n",
    "                    ]\n",
    "\n",
    "            # Save snapshots, the initial, final and every 25 iterations\n",
    "            if _ == 0 or _ == self.max_iter - 1 or _ % 25 == 0:\n",
    "                # force the count number to be like: 0001, 0002, 0003, ...\n",
    "                save_snapshots(current_time, self.gbest_layout, str(_).zfill(4), self.gbest_fitness)\n",
    "        \n",
    "        return self.gbest_layout"
   ]
  },
  {
   "cell_type": "markdown",
   "metadata": {},
   "source": [
    "## MCTS"
   ]
  },
  {
   "cell_type": "markdown",
   "metadata": {},
   "source": [
    "### MCTS Node"
   ]
  },
  {
   "cell_type": "code",
   "execution_count": 486,
   "metadata": {},
   "outputs": [],
   "source": [
    "class MCTSNode:\n",
    "    def __init__(self, state, parent=None, action=None):\n",
    "        self.state = state\n",
    "        self.parent = parent\n",
    "        self.action = action\n",
    "        self.children = []\n",
    "        self.visits = 0\n",
    "        self.value = 0\n",
    "        self.untried_actions = state.get_legal_actions()"
   ]
  },
  {
   "cell_type": "markdown",
   "metadata": {},
   "source": [
    "### LayoutState"
   ]
  },
  {
   "cell_type": "markdown",
   "metadata": {},
   "source": [
    "### MCTS algorithm"
   ]
  },
  {
   "cell_type": "code",
   "execution_count": 487,
   "metadata": {},
   "outputs": [],
   "source": [
    "class MCTS:\n",
    "    def __init__(self, boundary, rooms, iterations=mcts_iter, exploration=1.414):\n",
    "        self.boundary = boundary\n",
    "        self.rooms = rooms\n",
    "        self.iterations = iterations\n",
    "        self.exploration = exploration\n",
    "\n",
    "    def search(self):\n",
    "        root_state = LayoutState(self.boundary, self.rooms)\n",
    "        root_node = MCTSNode(root_state)\n",
    "        best_reward = -float('inf')\n",
    "        best_state = None\n",
    "        \n",
    "        for _ in range(self.iterations):\n",
    "            node = root_node\n",
    "            state = root_state.copy()\n",
    "            valid_simulation = True\n",
    "            \n",
    "            # Selection with validity check\n",
    "            while node.untried_actions == [] and node.children != []:\n",
    "                # print(\"Selecting child\")\n",
    "                node = self.select_child(node)\n",
    "                if not state.place_room(node.action):\n",
    "                    valid_simulation = False\n",
    "                    break\n",
    "            \n",
    "            if not valid_simulation:\n",
    "                continue  # Skip invalid paths \n",
    "\n",
    "            # Expansion with smart action selection \n",
    "            if node.untried_actions:\n",
    "                action = random.choice(node.untried_actions)\n",
    "                # print(\"Expanding with action\")\n",
    "                if state.place_room(action):\n",
    "                    node.untried_actions.remove(action)\n",
    "                    new_node = MCTSNode(state.copy(), node, action)\n",
    "                    node.children.append(new_node)\n",
    "                    node = new_node\n",
    "            \n",
    "            # Enhanced simulation with retry mechanism \n",
    "            simulation_state = state.copy()\n",
    "            max_attempts = 100\n",
    "            attempts = 0\n",
    "            while not simulation_state.all_placed() and attempts < max_attempts:\n",
    "                legal_actions = simulation_state.get_legal_actions()\n",
    "                if not legal_actions:\n",
    "                    valid_simulation = False\n",
    "                    break\n",
    "                action = random.choice(legal_actions)\n",
    "                if not simulation_state.place_room(action):\n",
    "                    valid_simulation = False\n",
    "                    break\n",
    "                # print(\"Correct place?:\", simulation_state.place_room(action))\n",
    "\n",
    "                attempts += 1\n",
    "\n",
    "            # Reward calculation \n",
    "            if not valid_simulation:\n",
    "                reward = 0.0\n",
    "            elif simulation_state.all_placed():\n",
    "                reward = fitness_function(simulation_state.get_house())\n",
    "                if reward > best_reward:\n",
    "                    best_reward = reward\n",
    "                    best_state = simulation_state\n",
    "            \n",
    "            # Backpropagation\n",
    "            current_node = node\n",
    "            while current_node is not None:\n",
    "                current_node.visits += 1\n",
    "                current_node.value += reward\n",
    "                current_node = current_node.parent\n",
    "        \n",
    "        # print(\"Reward:\", reward)\n",
    "        # # print(\"node.visits:\", root_node.visits)\n",
    "        # print(\"node.children:\", len(root_node.children))\n",
    "        # # print(\"node.action:\", node.action)\n",
    "        # return self.get_best_layout(root_node.children)\n",
    "        if best_state:\n",
    "            return best_state.get_house()\n",
    "        else:\n",
    "            return self.get_best_layout(root_node.children)\n",
    "    \n",
    "    def select_child(self, node):\n",
    "        log_total = math.log(node.visits)\n",
    "        best_score = -float('inf')\n",
    "        best_child = None\n",
    "        \n",
    "        for child in node.children:\n",
    "            score = child.value / child.visits + self.exploration * math.sqrt(log_total / child.visits)\n",
    "            if score > best_score:\n",
    "                best_score = score\n",
    "                best_child = child\n",
    "        \n",
    "        return best_child\n",
    "    \n",
    "    def get_best_layout(self, children):\n",
    "        best_value = -float('inf')\n",
    "        best_node = None\n",
    "        for child in children:\n",
    "            if child.visits > best_value:\n",
    "                best_value = child.visits\n",
    "                best_node = child\n",
    "        return best_node.state.get_house()"
   ]
  },
  {
   "cell_type": "code",
   "execution_count": 488,
   "metadata": {},
   "outputs": [],
   "source": [
    "class LayoutState:\n",
    "    def __init__(self, boundary, rooms):\n",
    "        self.boundary = boundary\n",
    "        self.rooms = rooms\n",
    "        self.current_room = 0\n",
    "        self.placed_rooms = []\n",
    "        self.cluster = None\n",
    "\n",
    "    def copy(self):\n",
    "        \"\"\"Create a deep copy of the state.\"\"\"\n",
    "        new_state = LayoutState(self.boundary, self.rooms)\n",
    "        new_state.current_room = self.current_room\n",
    "        new_state.placed_rooms = self.placed_rooms.copy()\n",
    "        new_state.cluster = self.cluster\n",
    "        return new_state\n",
    "    \n",
    "    def get_legal_actions(self):\n",
    "        if self.current_room >= len(self.rooms):\n",
    "            return []\n",
    "        \n",
    "        room_type, width, depth = self.rooms[self.current_room]\n",
    "        legal_positions = []\n",
    "        for x in np.arange(0, self.boundary.bounds[2]-width, granularity_position):\n",
    "                for y in np.arange(0, self.boundary.bounds[3]-depth, granularity_position):\n",
    "                    legal_positions.append((x, y))\n",
    "        # # if cluster is None, all positions are legal\n",
    "        # if self.cluster is None:\n",
    "        #     for x in np.arange(0, self.boundary.bounds[2]-width, granularity):\n",
    "        #         for y in np.arange(0, self.boundary.bounds[3]-depth, granularity):\n",
    "        #             legal_positions.append((x, y))\n",
    "        # # if cluster is not None, only positions that not in the cluster are legal\n",
    "        # else:\n",
    "        #     for x in np.arange(0, self.boundary.bounds[2]-width, granularity):\n",
    "        #         for y in np.arange(0, self.boundary.bounds[3]-depth, granularity):\n",
    "        #             if not Point(x, y).within(self.cluster):\n",
    "        #                 legal_positions.append((x, y))\n",
    "\n",
    "        return legal_positions\n",
    "\n",
    "    def place_room(self, position):\n",
    "        x, y = position\n",
    "        room_type, width, depth = self.rooms[self.current_room]\n",
    "        new_room = Room(room_type, width, depth, x, y)\n",
    "        \n",
    "        # Add buffer to handle geometric issues 💡\n",
    "        try:\n",
    "            new_poly = new_room.get_polygon().buffer(0)\n",
    "            if self.cluster:\n",
    "                combined = self.cluster.buffer(0).union(new_poly)\n",
    "                if not combined.is_valid:\n",
    "                    return False\n",
    "                self.cluster = combined\n",
    "            else:\n",
    "                self.cluster = new_poly\n",
    "            \n",
    "            self.placed_rooms.append(new_room)\n",
    "            # print(\"Placed room:\", len(self.placed_rooms))\n",
    "            self.current_room += 1\n",
    "            # print(\"Current room:\", self.current_room)\n",
    "            return True\n",
    "        except:\n",
    "            return False\n",
    "        \n",
    "    def all_placed(self):\n",
    "        \"\"\"Check if all rooms have been placed.\"\"\"\n",
    "        return self.current_room >= len(self.rooms)\n",
    "    \n",
    "    def get_house(self):\n",
    "        \"\"\"Create a House object from the current state.\"\"\"\n",
    "        # print(\"Placed--rooms:\", len(self.placed_rooms))\n",
    "        return House(self.placed_rooms, self.boundary)"
   ]
  },
  {
   "cell_type": "markdown",
   "metadata": {},
   "source": [
    "# Run PSO-MCTS"
   ]
  },
  {
   "cell_type": "code",
   "execution_count": 489,
   "metadata": {},
   "outputs": [
    {
     "name": "stdout",
     "output_type": "stream",
     "text": [
      "Living Room width: 6.0, depth: 6.0 at (0.0, 4.0)\n",
      "Master Bedroom width: 4.5, depth: 5.5 at (0.0, 9.0)\n",
      "Bedroom width: 4.0, depth: 4.0 at (4.0, 10.5)\n",
      "Kitchen width: 3.0, depth: 3.0 at (6.5, 6.5)\n",
      "Bathroom width: 3.5, depth: 4.5 at (0.0, 0.0)\n",
      "Hallway width: 1.0, depth: 8.0 at (8.0, 0.5)\n",
      "Balcony width: 2.0, depth: 6.5 at (6.0, 0.5)\n",
      "Dining Room width: 3.5, depth: 4.5 at (2.5, 0.0)\n",
      "Fitness: 1.81\n"
     ]
    },
    {
     "data": {
      "image/png": "[encoded data removed]",
      "text/plain": [
       "<Figure size 1000x600 with 1 Axes>"
      ]
     },
     "metadata": {},
     "output_type": "display_data"
    }
   ],
   "source": [
    "# Modified generate_house function using PSO-MCTS\n",
    "def generate_house_pso_mcts(boundary, rooms_range, pso_iter=pso_iter):\n",
    "    # Optimize room sizes with PSO\n",
    "    pso = PSO(rooms_range, num_particles=particle_num, max_iter=pso_iter)\n",
    "    best_house = pso.optimize(boundary)\n",
    "    # print rooms (name, width, depth, x, y\n",
    "    for room in best_house.rooms:\n",
    "        print(room)\n",
    "\n",
    "\n",
    "    # final check\n",
    "    if len(best_house.rooms) < len(rooms_range):\n",
    "        print(\"Failed to place all rooms\")\n",
    "    \n",
    "    return best_house\n",
    "\n",
    "# Run the PSO-MCTS algorithm\n",
    "house_example = generate_house_pso_mcts(boundary, rooms_range)\n",
    "\n",
    "if house_example.cluster.is_valid:\n",
    "    print(f\"Fitness: {fitness_function(house_example):.2f}\")\n",
    "else:\n",
    "    print(\"Generated invalid layout\")\n",
    "draw_house_cluster(house_example)\n"
   ]
  }
 ],
 "metadata": {
  "kernelspec": {
   "display_name": "research",
   "language": "python",
   "name": "python3"
  },
  "language_info": {
   "codemirror_mode": {
    "name": "ipython",
    "version": 3
   },
   "file_extension": ".py",
   "mimetype": "text/x-python",
   "name": "python",
   "nbconvert_exporter": "python",
   "pygments_lexer": "ipython3",
   "version": "3.12.7"
  }
 },
 "nbformat": 4,
 "nbformat_minor": 2
}
