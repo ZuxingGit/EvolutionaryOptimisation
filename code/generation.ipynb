{
 "cells": [
  {
   "cell_type": "code",
   "execution_count": 29,
   "metadata": {},
   "outputs": [],
   "source": [
    "import random\n",
    "import matplotlib.pyplot as plt\n",
    "from shapely.geometry import Polygon"
   ]
  },
  {
   "cell_type": "markdown",
   "metadata": {},
   "source": [
    "# Set constraints\n",
    "## Land boundry"
   ]
  },
  {
   "cell_type": "code",
   "execution_count": 30,
   "metadata": {},
   "outputs": [],
   "source": [
    "min_house_width = 6\n",
    "max_house_width = 18\n",
    "\n",
    "min_house_depth = 8\n",
    "max_house_depth = 25\n",
    "\n",
    "# house_width = random.randint(min_house_width, max_house_width)\n",
    "# house_depth = random.randint(min_house_depth, max_house_depth)\n",
    "\n",
    "# set manually for now\n",
    "house_width = 10\n",
    "house_depth = 15\n",
    "\n",
    "house_land = Polygon([(0, 0), (house_width, 0), (house_width, house_depth), (0, house_depth)])"
   ]
  },
  {
   "cell_type": "markdown",
   "metadata": {},
   "source": [
    "## Rooms size range"
   ]
  },
  {
   "cell_type": "code",
   "execution_count": 31,
   "metadata": {},
   "outputs": [],
   "source": [
    "# Define room types (type, min_width, max_width, min_depth, max_depth)\n",
    "rooms_range = [\n",
    "    (\"Living Room\", 3, 6, 3, 6),         \n",
    "    (\"Master Bedroom\", 3, 6, 3, 6),     \n",
    "    # (\"Bedroom\", 3, 4.5, 3, 4.5), \n",
    "    # (\"Bedroom\", 3, 4.5, 3, 4.5),       \n",
    "    (\"Kitchen\", 2, 4, 2, 4),            \n",
    "    (\"Bathroom\", 2, 4, 2, 5),           \n",
    "    # (\"Hallway\", 1, 1.5, 2, 10),\n",
    "    (\"Balcony\", 1, 2, 2, 8),\n",
    "    (\"Dining Room\", 3, 5, 3, 5),  \n",
    "]\n",
    "\n",
    "granularity = 0.5"
   ]
  },
  {
   "cell_type": "markdown",
   "metadata": {},
   "source": [
    "## Components size range\n",
    "**window & door**"
   ]
  },
  {
   "cell_type": "code",
   "execution_count": 32,
   "metadata": {},
   "outputs": [],
   "source": [
    "min_window_width = 0.5\n",
    "max_window_width = 1.5\n",
    "\n",
    "min_door_width = 0.5\n",
    "max_door_width = 1.5\n"
   ]
  },
  {
   "cell_type": "markdown",
   "metadata": {},
   "source": [
    "# Room class"
   ]
  },
  {
   "cell_type": "code",
   "execution_count": 33,
   "metadata": {},
   "outputs": [],
   "source": [
    "class Room:\n",
    "    def __init__(self, name, width, depth, x, y):\n",
    "        self.name = name\n",
    "        self.width = width\n",
    "        self.depth = depth\n",
    "        self.x = x\n",
    "        self.y = y\n",
    "\n",
    "    def get_polygon(self):\n",
    "        return Polygon([(self.x, self.y), (self.x + self.width, self.y), (self.x + self.width, self.y + self.depth), (self.x, self.y + self.depth)])\n",
    "    \n",
    "    def __str__(self):\n",
    "        return f\"{self.name} width: {self.width}, depth: {self.depth} at ({self.x}, {self.y})\""
   ]
  },
  {
   "cell_type": "markdown",
   "metadata": {},
   "source": [
    "# Feasibility check Function(s)"
   ]
  },
  {
   "cell_type": "code",
   "execution_count": 34,
   "metadata": {},
   "outputs": [],
   "source": [
    "def is_valid_placement(rect, cluster, house_land):\n",
    "    # check if the rectangle is within the house land\n",
    "    if not house_land.contains(rect):\n",
    "        return False\n",
    "    \n",
    "    # check if the rectangle attaches to the cluster, neither overlap nor separate\n",
    "    if cluster is None:\n",
    "        return True\n",
    "    elif cluster.touches(rect):\n",
    "        touch_part = cluster.intersection(rect)\n",
    "        # not just a point touching\n",
    "        if touch_part.geom_type in [\"LineString\", \"MultiLineString\"]:\n",
    "            return True\n",
    "        else:\n",
    "            return False\n",
    "    else:\n",
    "        return False"
   ]
  },
  {
   "cell_type": "markdown",
   "metadata": {},
   "source": [
    "# Generate!"
   ]
  },
  {
   "cell_type": "code",
   "execution_count": 35,
   "metadata": {},
   "outputs": [],
   "source": [
    "def generate_house(house_land, rooms_range):\n",
    "    placed_rooms = []\n",
    "    cluster = None\n",
    "\n",
    "    for room_type, min_width, max_width, min_depth, max_depth in rooms_range:\n",
    "        placed = False\n",
    "\n",
    "        while not placed:    \n",
    "            width = round(random.uniform(min_width, max_width)/granularity) * granularity\n",
    "            depth = round(random.uniform(min_depth, max_depth)/granularity) * granularity\n",
    "            \n",
    "            if not placed_rooms:\n",
    "                # place the first room\n",
    "                x = round(random.uniform(0, house_width - width)/granularity) * granularity\n",
    "                y = round(random.uniform(0, house_depth - depth)/granularity) * granularity\n",
    "            else:\n",
    "                # Add new room adjacent to an existing room\n",
    "                base_room = random.choice(placed_rooms)\n",
    "                bottom_left = base_room.x, base_room.y\n",
    "                bottom_right = base_room.x + base_room.width, base_room.y\n",
    "                top_right = base_room.x + base_room.width, base_room.y + base_room.depth\n",
    "                top_left = base_room.x, base_room.y + base_room.depth\n",
    "                # coords = list(base_room.exterior.coords)\n",
    "                # bottom_left = min(coords, key=lambda point: (point[0], point[1]))\n",
    "                # bottom_right = max(coords, key=lambda point: (point[0], -point[1]))\n",
    "                # top_right = max(coords, key=lambda point: (point[0], point[1]))\n",
    "                # top_left = min(coords, key=lambda point: (-point[0], point[1]))\n",
    "\n",
    "                direction = random.choice([\"left\", \"right\", \"up\", \"down\"])\n",
    "                if direction == \"left\":\n",
    "                    # top or bottom\n",
    "                    random_int = random.randint(0, 1)\n",
    "                    if random_int == 0:\n",
    "                        x = bottom_left[0] - width\n",
    "                        y = bottom_left[1]\n",
    "                    else:\n",
    "                        x = top_left[0] - width\n",
    "                        y = top_left[1] - depth\n",
    "                elif direction == \"right\":\n",
    "                    # top or bottom\n",
    "                    random_int = random.randint(0, 1)\n",
    "                    if random_int == 0:\n",
    "                        x = bottom_right[0]\n",
    "                        y = bottom_right[1]\n",
    "                    else:\n",
    "                        x = top_right[0]\n",
    "                        y = top_right[1] - depth\n",
    "                elif direction == \"up\":\n",
    "                    # left or right\n",
    "                    random_int = random.randint(0, 1)\n",
    "                    if random_int == 0:\n",
    "                        x = top_left[0]\n",
    "                        y = top_left[1]\n",
    "                    else:\n",
    "                        x = top_right[0] - width\n",
    "                        y = top_right[1]\n",
    "                elif direction == \"down\":\n",
    "                    # left or right\n",
    "                    random_int = random.randint(0, 1)\n",
    "                    if random_int == 0:\n",
    "                        x = bottom_left[0]\n",
    "                        y = bottom_left[1] - depth\n",
    "                    else:\n",
    "                        x = bottom_right[0] - width\n",
    "                        y = bottom_right[1] - depth\n",
    "                    \n",
    "\n",
    "            # new_polygon = Polygon([(x, y), (x + width, y), (x + width, y + depth), (x, y + depth)])\n",
    "            new_room = Room(room_type, width, depth, x, y)\n",
    "\n",
    "            if is_valid_placement(new_room.get_polygon(), cluster, house_land):\n",
    "                placed_rooms.append(new_room)\n",
    "                if cluster is None:\n",
    "                    cluster = new_room.get_polygon()\n",
    "                else:\n",
    "                    cluster = cluster.union(new_room.get_polygon())\n",
    "                placed = True\n",
    "                \n",
    "            \n",
    "    return placed_rooms"
   ]
  },
  {
   "cell_type": "markdown",
   "metadata": {},
   "source": [
    "# Draw house function"
   ]
  },
  {
   "cell_type": "code",
   "execution_count": 36,
   "metadata": {},
   "outputs": [],
   "source": [
    "def draw_house_cluster(rooms, house_land):\n",
    "    plt.figure(figsize=(10, 6)) \n",
    "    x, y = house_land.exterior.xy\n",
    "    plt.plot(x, y, color=\"black\")\n",
    "    plt.fill(x, y, color='grey', alpha=0.1)\n",
    "    for i, room in enumerate(rooms):\n",
    "        room_polygon = room.get_polygon()\n",
    "        x, y = room_polygon.exterior.xy\n",
    "        plt.fill(x, y, alpha=0.8)\n",
    "        plt.plot(x, y, alpha=0.9)\n",
    "        plt.text(room_polygon.centroid.x, room_polygon.centroid.y, f\"R{i+1}\", ha=\"center\", va=\"center\")\n",
    "\n",
    "    plt.gca().set_aspect(\"equal\", adjustable=\"box\")\n",
    "    plt.gca().spines[\"right\"].set_visible(False)\n",
    "    plt.gca().spines[\"top\"].set_visible(False)\n",
    "    plt.grid(True, linestyle='--', alpha=0.1)\n",
    "    plt.show()"
   ]
  },
  {
   "cell_type": "markdown",
   "metadata": {},
   "source": [
    "# Display the result"
   ]
  },
  {
   "cell_type": "code",
   "execution_count": 37,
   "metadata": {},
   "outputs": [
    {
     "data": {
      "image/png": "[encoded data removed]",
      "text/plain": [
       "<Figure size 1000x600 with 1 Axes>"
      ]
     },
     "metadata": {},
     "output_type": "display_data"
    }
   ],
   "source": [
    "house_example = generate_house(house_land, rooms_range)\n",
    "draw_house_cluster(house_example, house_land)"
   ]
  }
 ],
 "metadata": {
  "kernelspec": {
   "display_name": "research",
   "language": "python",
   "name": "python3"
  },
  "language_info": {
   "codemirror_mode": {
    "name": "ipython",
    "version": 3
   },
   "file_extension": ".py",
   "mimetype": "text/x-python",
   "name": "python",
   "nbconvert_exporter": "python",
   "pygments_lexer": "ipython3",
   "version": "3.12.7"
  }
 },
 "nbformat": 4,
 "nbformat_minor": 2
}
