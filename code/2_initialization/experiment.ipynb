{
 "cells": [
  {
   "cell_type": "markdown",
   "metadata": {},
   "source": [
    "# Shapely"
   ]
  },
  {
   "cell_type": "code",
   "execution_count": 1,
   "metadata": {},
   "outputs": [
    {
     "name": "stdout",
     "output_type": "stream",
     "text": [
      "POLYGON ((3 2, 6 2, 6 5, 3 5, 3 2))\n",
      "True\n"
     ]
    }
   ],
   "source": [
    "from shapely.geometry import Polygon\n",
    "from shapely.geometry import MultiPolygon\n",
    "\n",
    "# create a room\n",
    "room = Polygon([(0, 0), (4, 0), (4, 3), (0, 3)])\n",
    "\n",
    "# check if a new room intersects with the existing room\n",
    "new_room = Polygon([(3, 2), (6, 2), (6, 5), (3, 5)])\n",
    "print(new_room)\n",
    "print(room.intersects(new_room))  # True\n"
   ]
  },
  {
   "cell_type": "markdown",
   "metadata": {},
   "source": [
    "## Point\n",
    "useful, but not flexible enough"
   ]
  },
  {
   "cell_type": "code",
   "execution_count": 2,
   "metadata": {},
   "outputs": [
    {
     "name": "stdout",
     "output_type": "stream",
     "text": [
      "POINT (10.1 20.1)\n",
      "POLYGON ((10 20, 15 20, 15 25, 10 25, 10 20))\n",
      "True\n",
      "POINT (12.1 23.1)\n"
     ]
    }
   ],
   "source": [
    "from shapely.geometry import Point\n",
    "\n",
    "vertex = Point(10.1, 20.1)\n",
    "print(vertex)\n",
    "\n",
    "room = Polygon([Point(10, 20), Point(15, 20), Point(15, 25), Point(10, 25)])\n",
    "print(room)\n",
    "print(vertex.within(room))  # True\n",
    "\n",
    "vertex = Point(vertex.x + 2, vertex.y + 3)\n",
    "print(vertex)"
   ]
  },
  {
   "cell_type": "code",
   "execution_count": 3,
   "metadata": {},
   "outputs": [
    {
     "name": "stdout",
     "output_type": "stream",
     "text": [
      "LINESTRING (0 5, 0 6)\n",
      "POINT (0 5.5)\n"
     ]
    }
   ],
   "source": [
    "from shapely.geometry import LineString, Point\n",
    "\n",
    "# The entry position\n",
    "entry = LineString([(0, 5), (0, 6)])\n",
    "# The center of the entry is the middle of the line\n",
    "entry_center = entry.interpolate(0.5, normalized=True)\n",
    "\n",
    "print(entry)\n",
    "print(entry_center)"
   ]
  },
  {
   "cell_type": "markdown",
   "metadata": {},
   "source": [
    "## contain, within, cover, cover_by"
   ]
  },
  {
   "cell_type": "code",
   "execution_count": 4,
   "metadata": {},
   "outputs": [
    {
     "name": "stdout",
     "output_type": "stream",
     "text": [
      "True\n",
      "True\n",
      "True\n",
      "True\n",
      "True\n",
      "True\n",
      "True\n",
      "True\n"
     ]
    },
    {
     "data": {
      "image/png": "[encoded data removed]",
      "text/plain": [
       "<Figure size 640x480 with 1 Axes>"
      ]
     },
     "metadata": {},
     "output_type": "display_data"
    }
   ],
   "source": [
    "import matplotlib.pyplot as plt\n",
    "\n",
    "## contain, within, cover, cover_by\n",
    "big_polygon = Polygon([(0, 0), (10, 0), (10, 10), (0, 10)])\n",
    "a_polygon = Polygon([(1, 1), (2, 1), (2, 2), (1, 2)])\n",
    "b_polygon = Polygon([(9, 9), (10, 9), (10, 10), (9, 10)])\n",
    "\n",
    "def draw_polygon(polygon, color):\n",
    "\tx, y = polygon.exterior.xy\n",
    "\tplt.fill(x, y, color=color, alpha=0.5)\n",
    "\t\n",
    "draw_polygon(big_polygon, 'gray')\n",
    "draw_polygon(a_polygon, 'red')\n",
    "draw_polygon(b_polygon, 'green')\n",
    "\n",
    "print(big_polygon.contains(a_polygon))  # True\n",
    "print(big_polygon.contains(b_polygon))  # True\n",
    "print(a_polygon.within(big_polygon))  # True\n",
    "print(b_polygon.within(big_polygon))  # True\n",
    "print(big_polygon.covers(a_polygon))  # True\n",
    "print(big_polygon.covers(b_polygon))  # True\n",
    "print(a_polygon.covered_by(big_polygon))  # True\n",
    "print(b_polygon.covered_by(big_polygon))  # True"
   ]
  },
  {
   "cell_type": "markdown",
   "metadata": {},
   "source": [
    "# Matplotlib"
   ]
  },
  {
   "cell_type": "code",
   "execution_count": 5,
   "metadata": {},
   "outputs": [
    {
     "data": {
      "image/png": "[encoded data removed]",
      "text/plain": [
       "<Figure size 640x480 with 1 Axes>"
      ]
     },
     "metadata": {},
     "output_type": "display_data"
    }
   ],
   "source": [
    "rooms = [room, new_room]\n",
    "def draw_polygons(rooms):\n",
    "    import matplotlib.pyplot as plt\n",
    "    for room in rooms:\n",
    "        x, y = room.exterior.xy\n",
    "        plt.fill(x, y, alpha=0.1)\n",
    "        plt.plot(x, y)\n",
    "    plt.show()\n",
    "\n",
    "draw_polygons(rooms)\n"
   ]
  },
  {
   "cell_type": "code",
   "execution_count": 6,
   "metadata": {},
   "outputs": [
    {
     "data": {
      "image/png": "[encoded data removed]",
      "text/plain": [
       "<Figure size 640x480 with 1 Axes>"
      ]
     },
     "metadata": {},
     "output_type": "display_data"
    }
   ],
   "source": [
    "import matplotlib.pyplot as plt\n",
    "from shapely.geometry import Polygon\n",
    "\n",
    "# Define the exterior and interior rings\n",
    "exterior = [(0, 0), (5, 0), (5, 5), (0, 5)]\n",
    "interior = [(1, 1), (4, 1), (4, 4), (1, 4)]\n",
    "\n",
    "# Create a Polygon with a hole\n",
    "polygon_with_hole = Polygon(exterior, [interior])\n",
    "\n",
    "# Extract coordinates for plotting\n",
    "x_exterior, y_exterior = polygon_with_hole.exterior.xy\n",
    "x_interior, y_interior = polygon_with_hole.interiors[0].xy\n",
    "\n",
    "# Plot the exterior and interior rings\n",
    "plt.fill(x_exterior, y_exterior, color='blue', alpha=0.5)\n",
    "plt.fill(x_interior, y_interior, color='white')  # Use white to \"remove\" the hole\n",
    "\n",
    "# Set axis limits and display\n",
    "plt.xlim(-1, 6)\n",
    "plt.ylim(-1, 6)\n",
    "plt.gca().set_aspect('equal')\n",
    "plt.show()"
   ]
  },
  {
   "cell_type": "code",
   "execution_count": 7,
   "metadata": {},
   "outputs": [
    {
     "name": "stdout",
     "output_type": "stream",
     "text": [
      "66.0\n"
     ]
    }
   ],
   "source": [
    "\n",
    "# Define some polygons (some with holes, some without)\n",
    "polygon1 = Polygon([(0, 0), (5, 0), (5, 5), (0, 5)])  # No hole\n",
    "polygon2 = Polygon([(6, 0), (11, 0), (11, 5), (6, 5)],  # With a hole\n",
    "                   [[(7, 1), (10, 1), (10, 4), (7, 4)]])\n",
    "polygon3 = Polygon([(12, 0), (17, 0), (17, 5), (12, 5)])  # No hole\n",
    "\n",
    "# Create a MultiPolygon\n",
    "multi_polygon = MultiPolygon([polygon1, polygon2, polygon3])\n",
    "\n",
    "# Calculate the total actual area\n",
    "total_area = sum(polygon.area for polygon in multi_polygon.geoms)\n",
    "print(total_area)"
   ]
  },
  {
   "cell_type": "code",
   "execution_count": 8,
   "metadata": {},
   "outputs": [
    {
     "name": "stdout",
     "output_type": "stream",
     "text": [
      "Total actual area: 66.0\n"
     ]
    }
   ],
   "source": [
    "from shapely.geometry import MultiPolygon, Polygon\n",
    "\n",
    "# Define some polygons (some with holes, some without)\n",
    "polygon1 = Polygon([(0, 0), (5, 0), (5, 5), (0, 5)])  # No hole\n",
    "polygon2 = Polygon([(6, 0), (11, 0), (11, 5), (6, 5)],  # With a hole\n",
    "                   [[(7, 1), (10, 1), (10, 4), (7, 4)]])\n",
    "polygon3 = Polygon([(12, 0), (17, 0), (17, 5), (12, 5)])  # No hole\n",
    "\n",
    "# Create a MultiPolygon\n",
    "multi_polygon = MultiPolygon([polygon1, polygon2, polygon3])\n",
    "\n",
    "# Calculate the total area directly using MultiPolygon.area\n",
    "total_area = multi_polygon.area\n",
    "\n",
    "print(\"Total actual area:\", total_area)"
   ]
  },
  {
   "cell_type": "code",
   "execution_count": 9,
   "metadata": {},
   "outputs": [
    {
     "name": "stdout",
     "output_type": "stream",
     "text": [
      "MULTIPOLYGON (((1 0, 0 0, 0 1, 1 1, 1 0)), ((1 1, 1 3, 2 3, 2 4, 4 4, 4 2, 3 2, 3 1, 1 1)))\n"
     ]
    },
    {
     "data": {
      "image/png": "[encoded data removed]",
      "text/plain": [
       "<Figure size 640x480 with 1 Axes>"
      ]
     },
     "metadata": {},
     "output_type": "display_data"
    }
   ],
   "source": [
    "# unary_union\n",
    "from shapely.geometry import Polygon\n",
    "from shapely.ops import unary_union\n",
    "\n",
    "# Example polygons\n",
    "polygon1 = Polygon([(0, 0), (1, 0), (1, 1), (0, 1)])\n",
    "polygon2 = Polygon([(1, 1), (3, 1), (3, 3), (1, 3)])\n",
    "polygon3 = Polygon([(2, 2), (4, 2), (4, 4), (2, 4)])\n",
    "plt.fill(*polygon1.exterior.xy, color='red', alpha=0.5)\n",
    "plt.fill(*polygon2.exterior.xy, color='blue', alpha=0.5)\n",
    "plt.fill(*polygon3.exterior.xy, color='green', alpha=0.5)\n",
    "\n",
    "# Merge polygons using unary_union\n",
    "merged_polygon = unary_union([polygon1, polygon2, polygon3])\n",
    "# plt.fill(*merged_polygon.exterior.xy, color='gray', alpha=0.5)\n",
    "# plt.gca().set_aspect('equal')\n",
    "# plt.show()\n",
    "\n",
    "print(merged_polygon)"
   ]
  },
  {
   "cell_type": "code",
   "execution_count": 10,
   "metadata": {},
   "outputs": [
    {
     "name": "stdout",
     "output_type": "stream",
     "text": [
      "96.0\n"
     ]
    }
   ],
   "source": [
    "from shapely.geometry import Polygon\n",
    "\n",
    "# Define the exterior and interior rings\n",
    "exterior = [(0, 0), (10, 0), (10, 10), (0, 10)]\n",
    "interior = [(2, 2), (4, 2), (4, 4), (2, 4)]\n",
    "polygon = Polygon(exterior, [interior])\n",
    "\n",
    "# Calculate the area of the polygon\n",
    "area = polygon.area\n",
    "print(area)  # 96.0"
   ]
  },
  {
   "cell_type": "markdown",
   "metadata": {},
   "source": [
    "# NetworkX"
   ]
  },
  {
   "cell_type": "code",
   "execution_count": 16,
   "metadata": {},
   "outputs": [
    {
     "name": "stdout",
     "output_type": "stream",
     "text": [
      "False\n"
     ]
    }
   ],
   "source": [
    "import networkx as nx\n",
    "\n",
    "# define the connection of the rooms\n",
    "floor_plan = nx.Graph()\n",
    "floor_plan.add_edges_from([\n",
    "    (\"Living Room\", \"Kitchen\"),\n",
    "    (\"Living Room\", \"Bedroom\"),\n",
    "    (\"Bedroom\", \"Bathroom\"),\n",
    "    (\"Laundry\", \"Hallway\"),\n",
    "])\n",
    "\n",
    "print(nx.is_connected(floor_plan))  # check if the graph one single connected component"
   ]
  },
  {
   "cell_type": "code",
   "execution_count": 17,
   "metadata": {},
   "outputs": [
    {
     "data": {
      "image/png": "[encoded data removed]",
      "text/plain": [
       "<Figure size 640x480 with 1 Axes>"
      ]
     },
     "metadata": {},
     "output_type": "display_data"
    }
   ],
   "source": [
    "# print floor_plan\n",
    "import matplotlib.pyplot as plt\n",
    "pos = nx.spring_layout(floor_plan)\n",
    "nx.draw_networkx_nodes(floor_plan, pos)\n",
    "nx.draw_networkx_edges(floor_plan, pos)\n",
    "nx.draw_networkx_labels(floor_plan, pos)\n",
    "plt.show()"
   ]
  },
  {
   "cell_type": "markdown",
   "metadata": {},
   "source": [
    "# Pygame  \n",
    "**Later**, develop an interactive interface"
   ]
  },
  {
   "cell_type": "code",
   "execution_count": 18,
   "metadata": {},
   "outputs": [],
   "source": [
    "# import pygame\n",
    "\n",
    "# pygame.init()\n",
    "# screen = pygame.display.set_mode((500, 500))\n",
    "\n",
    "# # create a room\n",
    "# room = pygame.Rect(50, 50, 100, 150)\n",
    "\n",
    "# running = True\n",
    "# while running:\n",
    "#     for event in pygame.event.get():\n",
    "#         if event.type == pygame.QUIT:\n",
    "#             running = False\n",
    "\n",
    "#     screen.fill((255, 255, 255))\n",
    "#     pygame.draw.rect(screen, (200, 100, 100), room)\n",
    "#     pygame.display.flip()\n",
    "\n",
    "# pygame.quit()\n"
   ]
  },
  {
   "cell_type": "markdown",
   "metadata": {},
   "source": [
    "# Generate"
   ]
  },
  {
   "cell_type": "code",
   "execution_count": 19,
   "metadata": {},
   "outputs": [],
   "source": [
    "from shapely.geometry import Polygon\n",
    "\n",
    "class Room:\n",
    "    def __init__(self, room_type, x, y, width, depth):\n",
    "        self.room_type = room_type\n",
    "        self.x = x\n",
    "        self.y = y\n",
    "        self.width = width\n",
    "        self.depth = depth\n",
    "        self.polygon = Polygon([(x, y), (x, y + depth), (x + width, y + depth), (x + width, y)])\n",
    "\n",
    "    def __str__(self):\n",
    "        return f\"Room {self.room_type}: {self.polygon.exterior.coords[:]}\"\n",
    "\n",
    "    def __repr__(self):\n",
    "        return str(self)"
   ]
  },
  {
   "cell_type": "markdown",
   "metadata": {},
   "source": [
    "# some constraints\n",
    "## house constraints"
   ]
  },
  {
   "cell_type": "code",
   "execution_count": 20,
   "metadata": {},
   "outputs": [],
   "source": [
    "min_house_width = 10\n",
    "max_house_width = 20\n",
    "min_house_depth = 15\n",
    "max_house_depth = 40"
   ]
  },
  {
   "cell_type": "markdown",
   "metadata": {},
   "source": [
    "## room constraints"
   ]
  },
  {
   "cell_type": "code",
   "execution_count": 21,
   "metadata": {},
   "outputs": [],
   "source": [
    "min_room_width = 1\n",
    "max_room_width = 6\n",
    "min_room_depth = 2\n",
    "max_room_depth = 8"
   ]
  },
  {
   "cell_type": "code",
   "execution_count": 22,
   "metadata": {},
   "outputs": [],
   "source": [
    "# Generate a room\n",
    "def generate_room(type, x, y, width, height):\n",
    "    return Room(type, x, y, width, height)\n",
    "\n",
    "def adjust_room_position(new_room, existing_rooms, max_attempts=10):\n",
    "    directions = [(1, 0), (0, 1), (-1, 0), (0, -1), (1, 1), (-1, 1), (-1, -1), (1, -1)]\n",
    "    for _ in range(max_attempts):\n",
    "        for dx, dy in directions:\n",
    "            new_room.x += dx\n",
    "            new_room.y += dy\n",
    "            if not any(new_room.polygon.intersects(room.polygon) and not new_room.polygon.touches(room.polygon) for room in existing_rooms):\n",
    "                return True\n",
    "        # if no valid position found, shrink the room\n",
    "        new_room.width = max(min_room_width, new_room.width - 1)\n",
    "        new_room.depth = max(min_room_depth, new_room.depth - 1)\n",
    "    return False"
   ]
  },
  {
   "cell_type": "code",
   "execution_count": 23,
   "metadata": {},
   "outputs": [],
   "source": [
    "# test adjust_room_position function\n",
    "# room = generate_room('living_room', 0, 0, 4, 4)\n",
    "# print(room)\n",
    "# adjust_room_position(room, (1, 1))\n",
    "# print(room)"
   ]
  },
  {
   "cell_type": "code",
   "execution_count": 24,
   "metadata": {},
   "outputs": [],
   "source": [
    "# check candidate room's overlap with existing rooms\n",
    "def check_overlap(new_room, existing_rooms):\n",
    "    for room in existing_rooms:\n",
    "        # because intersect: overlap + touch + within\n",
    "        if new_room.polygon.intersects(room.polygon) and not new_room.polygon.touches(room.polygon):\n",
    "            if room.room_type == 'Living Room':\n",
    "                room.polygon = room.polygon.difference(new_room.polygon)\n",
    "                continue\n",
    "            else:\n",
    "                return True\n",
    "    return False\n",
    "\n",
    "import networkx as nx\n",
    "\n",
    "# check candidate room's connection with existing rooms\n",
    "# only one cluster is allowed\n",
    "def check_single_cluster(new_room, existing_rooms):\n",
    "    # check if the new room is connected and one cluster\n",
    "    adjacent_graph = nx.Graph()\n",
    "    adjacent_graph.add_node(new_room.room_type)\n",
    "    cropped_lv_room = None\n",
    "\n",
    "    for room in existing_rooms:\n",
    "        adjacent_graph.add_node(room)\n",
    "        # if the new room touches the existing room\n",
    "        if new_room.polygon.touches(room.polygon):\n",
    "            adjacent_graph.add_edge(new_room.room_type, room.room_type)\n",
    "        # if the new room overlaps the existing room\n",
    "        elif new_room.polygon.intersects(room.polygon):\n",
    "            if room.room_type == 'Living Room':\n",
    "                # print('cutting living room')\n",
    "                cropped_lv_room = room.polygon.difference(new_room.polygon)\n",
    "            else:\n",
    "                return False\n",
    "    # if the new room overlaps with the living room\n",
    "    # the living room should be replaced by the cropped room \n",
    "    if nx.is_connected(adjacent_graph):\n",
    "        if cropped_lv_room is not None:\n",
    "            for room in existing_rooms:\n",
    "                if room.room_type == 'Living Room':\n",
    "                    print('replacing living room')\n",
    "                    room.polygon = cropped_lv_room\n",
    "        return True\n",
    "    else:\n",
    "        return False"
   ]
  },
  {
   "cell_type": "code",
   "execution_count": 25,
   "metadata": {},
   "outputs": [],
   "source": [
    "import matplotlib.pyplot as plt\n",
    "from shapely.geometry import Polygon, MultiPolygon\n",
    "\n",
    "def draw_polygon(polygon):\n",
    "    # if multi-polygon, draw all polygons\n",
    "    if polygon.geom_type == 'MultiPolygon':\n",
    "        for sub_polygon in polygon.geoms:\n",
    "            x, y = sub_polygon.exterior.xy\n",
    "            plt.fill(x, y, alpha=0.1)\n",
    "            plt.plot(x, y)\n",
    "    else:\n",
    "        x, y = polygon.exterior.xy\n",
    "        plt.fill(x, y, alpha=0.1)\n",
    "        plt.plot(x, y)\n",
    "    \n",
    "def draw_rooms(rooms):\n",
    "    print('Number of rooms:', len(rooms))\n",
    "    for room in rooms:\n",
    "        draw_polygon(room.polygon)\n",
    "    plt.gca().set_aspect('equal', adjustable='box')\n",
    "    plt.gca().spines['right'].set_visible(False)\n",
    "    plt.gca().spines['top'].set_visible(False)\n",
    "    plt.show()"
   ]
  },
  {
   "cell_type": "code",
   "execution_count": 27,
   "metadata": {},
   "outputs": [
    {
     "ename": "KeyboardInterrupt",
     "evalue": "",
     "output_type": "error",
     "traceback": [
      "\u001b[0;31m---------------------------------------------------------------------------\u001b[0m",
      "\u001b[0;31mKeyboardInterrupt\u001b[0m                         Traceback (most recent call last)",
      "Cell \u001b[0;32mIn[27], line 27\u001b[0m\n\u001b[1;32m     23\u001b[0m         draw_rooms(placed_rooms)\n\u001b[1;32m     25\u001b[0m     \u001b[38;5;28;01mreturn\u001b[39;00m placed_rooms\n\u001b[0;32m---> 27\u001b[0m random_house \u001b[38;5;241m=\u001b[39m \u001b[43mgenerate_random_house\u001b[49m\u001b[43m(\u001b[49m\u001b[43m)\u001b[49m\n",
      "Cell \u001b[0;32mIn[27], line 18\u001b[0m, in \u001b[0;36mgenerate_random_house\u001b[0;34m()\u001b[0m\n\u001b[1;32m     16\u001b[0m     x, y \u001b[38;5;241m=\u001b[39m random\u001b[38;5;241m.\u001b[39mrandint(\u001b[38;5;241m0\u001b[39m, max_house_width\u001b[38;5;241m-\u001b[39mmin_room_width), random\u001b[38;5;241m.\u001b[39mrandint(\u001b[38;5;241m0\u001b[39m, max_house_depth\u001b[38;5;241m-\u001b[39mmin_room_depth)\n\u001b[1;32m     17\u001b[0m     new_room \u001b[38;5;241m=\u001b[39m generate_room(room_type, x, y, width, depth)\n\u001b[0;32m---> 18\u001b[0m     \u001b[38;5;28;01mif\u001b[39;00m \u001b[43mcheck_single_cluster\u001b[49m\u001b[43m(\u001b[49m\u001b[43mnew_room\u001b[49m\u001b[43m,\u001b[49m\u001b[43m \u001b[49m\u001b[43mplaced_rooms\u001b[49m\u001b[43m)\u001b[49m:\n\u001b[1;32m     19\u001b[0m         \u001b[38;5;28;01mbreak\u001b[39;00m\n\u001b[1;32m     21\u001b[0m placed_rooms\u001b[38;5;241m.\u001b[39mappend(new_room)\n",
      "Cell \u001b[0;32mIn[24], line 29\u001b[0m, in \u001b[0;36mcheck_single_cluster\u001b[0;34m(new_room, existing_rooms)\u001b[0m\n\u001b[1;32m     27\u001b[0m     adjacent_graph\u001b[38;5;241m.\u001b[39madd_edge(new_room\u001b[38;5;241m.\u001b[39mroom_type, room\u001b[38;5;241m.\u001b[39mroom_type)\n\u001b[1;32m     28\u001b[0m \u001b[38;5;66;03m# if the new room overlaps the existing room\u001b[39;00m\n\u001b[0;32m---> 29\u001b[0m \u001b[38;5;28;01melif\u001b[39;00m \u001b[43mnew_room\u001b[49m\u001b[38;5;241;43m.\u001b[39;49m\u001b[43mpolygon\u001b[49m\u001b[38;5;241;43m.\u001b[39;49m\u001b[43mintersects\u001b[49m\u001b[43m(\u001b[49m\u001b[43mroom\u001b[49m\u001b[38;5;241;43m.\u001b[39;49m\u001b[43mpolygon\u001b[49m\u001b[43m)\u001b[49m:\n\u001b[1;32m     30\u001b[0m     \u001b[38;5;28;01mif\u001b[39;00m room\u001b[38;5;241m.\u001b[39mroom_type \u001b[38;5;241m==\u001b[39m \u001b[38;5;124m'\u001b[39m\u001b[38;5;124mLiving Room\u001b[39m\u001b[38;5;124m'\u001b[39m:\n\u001b[1;32m     31\u001b[0m         \u001b[38;5;66;03m# print('cutting living room')\u001b[39;00m\n\u001b[1;32m     32\u001b[0m         cropped_lv_room \u001b[38;5;241m=\u001b[39m room\u001b[38;5;241m.\u001b[39mpolygon\u001b[38;5;241m.\u001b[39mdifference(new_room\u001b[38;5;241m.\u001b[39mpolygon)\n",
      "File \u001b[0;32m~/miniconda3/envs/research/lib/python3.12/site-packages/shapely/geometry/base.py:719\u001b[0m, in \u001b[0;36mBaseGeometry.intersects\u001b[0;34m(self, other)\u001b[0m\n\u001b[1;32m    717\u001b[0m \u001b[38;5;28;01mdef\u001b[39;00m \u001b[38;5;21mintersects\u001b[39m(\u001b[38;5;28mself\u001b[39m, other):\n\u001b[1;32m    718\u001b[0m \u001b[38;5;250m    \u001b[39m\u001b[38;5;124;03m\"\"\"Returns True if geometries intersect, else False\"\"\"\u001b[39;00m\n\u001b[0;32m--> 719\u001b[0m     \u001b[38;5;28;01mreturn\u001b[39;00m _maybe_unpack(\u001b[43mshapely\u001b[49m\u001b[38;5;241;43m.\u001b[39;49m\u001b[43mintersects\u001b[49m\u001b[43m(\u001b[49m\u001b[38;5;28;43mself\u001b[39;49m\u001b[43m,\u001b[49m\u001b[43m \u001b[49m\u001b[43mother\u001b[49m\u001b[43m)\u001b[49m)\n",
      "File \u001b[0;32m~/miniconda3/envs/research/lib/python3.12/site-packages/shapely/decorators.py:77\u001b[0m, in \u001b[0;36mmultithreading_enabled.<locals>.wrapped\u001b[0;34m(*args, **kwargs)\u001b[0m\n\u001b[1;32m     75\u001b[0m     \u001b[38;5;28;01mfor\u001b[39;00m arr \u001b[38;5;129;01min\u001b[39;00m array_args:\n\u001b[1;32m     76\u001b[0m         arr\u001b[38;5;241m.\u001b[39mflags\u001b[38;5;241m.\u001b[39mwriteable \u001b[38;5;241m=\u001b[39m \u001b[38;5;28;01mFalse\u001b[39;00m\n\u001b[0;32m---> 77\u001b[0m     \u001b[38;5;28;01mreturn\u001b[39;00m \u001b[43mfunc\u001b[49m\u001b[43m(\u001b[49m\u001b[38;5;241;43m*\u001b[39;49m\u001b[43margs\u001b[49m\u001b[43m,\u001b[49m\u001b[43m \u001b[49m\u001b[38;5;241;43m*\u001b[39;49m\u001b[38;5;241;43m*\u001b[39;49m\u001b[43mkwargs\u001b[49m\u001b[43m)\u001b[49m\n\u001b[1;32m     78\u001b[0m \u001b[38;5;28;01mfinally\u001b[39;00m:\n\u001b[1;32m     79\u001b[0m     \u001b[38;5;28;01mfor\u001b[39;00m arr, old_flag \u001b[38;5;129;01min\u001b[39;00m \u001b[38;5;28mzip\u001b[39m(array_args, old_flags):\n",
      "File \u001b[0;32m~/miniconda3/envs/research/lib/python3.12/site-packages/shapely/predicates.py:778\u001b[0m, in \u001b[0;36mintersects\u001b[0;34m(a, b, **kwargs)\u001b[0m\n\u001b[1;32m    747\u001b[0m \u001b[38;5;129m@multithreading_enabled\u001b[39m\n\u001b[1;32m    748\u001b[0m \u001b[38;5;28;01mdef\u001b[39;00m \u001b[38;5;21mintersects\u001b[39m(a, b, \u001b[38;5;241m*\u001b[39m\u001b[38;5;241m*\u001b[39mkwargs):\n\u001b[1;32m    749\u001b[0m \u001b[38;5;250m    \u001b[39m\u001b[38;5;124;03m\"\"\"Returns True if A and B share any portion of space.\u001b[39;00m\n\u001b[1;32m    750\u001b[0m \n\u001b[1;32m    751\u001b[0m \u001b[38;5;124;03m    Intersects implies that overlaps, touches, covers, or within are True.\u001b[39;00m\n\u001b[0;32m   (...)\u001b[0m\n\u001b[1;32m    776\u001b[0m \u001b[38;5;124;03m    False\u001b[39;00m\n\u001b[1;32m    777\u001b[0m \u001b[38;5;124;03m    \"\"\"\u001b[39;00m\n\u001b[0;32m--> 778\u001b[0m     \u001b[38;5;28;01mreturn\u001b[39;00m \u001b[43mlib\u001b[49m\u001b[38;5;241;43m.\u001b[39;49m\u001b[43mintersects\u001b[49m\u001b[43m(\u001b[49m\u001b[43ma\u001b[49m\u001b[43m,\u001b[49m\u001b[43m \u001b[49m\u001b[43mb\u001b[49m\u001b[43m,\u001b[49m\u001b[43m \u001b[49m\u001b[38;5;241;43m*\u001b[39;49m\u001b[38;5;241;43m*\u001b[39;49m\u001b[43mkwargs\u001b[49m\u001b[43m)\u001b[49m\n",
      "\u001b[0;31mKeyboardInterrupt\u001b[0m: "
     ]
    }
   ],
   "source": [
    "import random\n",
    "\n",
    "# Generate a random reasonable house plan\n",
    "def generate_random_house():\n",
    "    placed_rooms = []\n",
    "    # first room is the living room\n",
    "    x, y = random.randint(0, max_house_width-min_room_width), random.randint(0, max_house_depth-min_room_depth)\n",
    "    width_LR = random.randint(min_house_width, max_house_width)\n",
    "    depth_LR = random.randint(min_house_depth, max_house_depth)\n",
    "    placed_rooms.append(generate_room(\"Living Room\", x, y, width_LR, depth_LR))\n",
    "\n",
    "    room_types = [\"Dining Room\", \"Master Bedroom\", \"Kitchen\", \"Bedroom\", \"Bathroom\", \"Hallway\", \"Balcony\"]\n",
    "    for room_type in room_types:\n",
    "        while True:\n",
    "            width, depth = random.randint(min_room_width, max_room_width), random.randint(min_room_depth, max_room_depth)\n",
    "            x, y = random.randint(0, max_house_width-min_room_width), random.randint(0, max_house_depth-min_room_depth)\n",
    "            new_room = generate_room(room_type, x, y, width, depth)\n",
    "            if check_single_cluster(new_room, placed_rooms):\n",
    "                break\n",
    "\n",
    "        placed_rooms.append(new_room)\n",
    "        print(f'{new_room.room_type} placed!')\n",
    "        draw_rooms(placed_rooms)\n",
    "            \n",
    "    return placed_rooms\n",
    "\n",
    "random_house = generate_random_house()"
   ]
  }
 ],
 "metadata": {
  "kernelspec": {
   "display_name": "research",
   "language": "python",
   "name": "python3"
  },
  "language_info": {
   "codemirror_mode": {
    "name": "ipython",
    "version": 3
   },
   "file_extension": ".py",
   "mimetype": "text/x-python",
   "name": "python",
   "nbconvert_exporter": "python",
   "pygments_lexer": "ipython3",
   "version": "3.12.7"
  }
 },
 "nbformat": 4,
 "nbformat_minor": 2
}
