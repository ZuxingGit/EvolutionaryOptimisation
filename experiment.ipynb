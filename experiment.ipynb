{
 "cells": [
  {
   "cell_type": "markdown",
   "metadata": {},
   "source": [
    "# Shapely"
   ]
  },
  {
   "cell_type": "code",
   "execution_count": 54,
   "metadata": {},
   "outputs": [
    {
     "name": "stdout",
     "output_type": "stream",
     "text": [
      "POLYGON ((3 2, 6 2, 6 5, 3 5, 3 2))\n",
      "True\n"
     ]
    }
   ],
   "source": [
    "from shapely.geometry import Polygon\n",
    "\n",
    "# create a room\n",
    "room = Polygon([(0, 0), (4, 0), (4, 3), (0, 3)])\n",
    "\n",
    "# check if a new room intersects with the existing room\n",
    "new_room = Polygon([(3, 2), (6, 2), (6, 5), (3, 5)])\n",
    "print(new_room)\n",
    "print(room.intersects(new_room))  # True\n"
   ]
  },
  {
   "cell_type": "code",
   "execution_count": 55,
   "metadata": {},
   "outputs": [
    {
     "name": "stdout",
     "output_type": "stream",
     "text": [
      "<class 'shapely.coords.CoordinateSequence'>\n",
      "<class 'tuple'>\n"
     ]
    }
   ],
   "source": [
    "# check its type\n",
    "print(type(room.exterior.coords))\n",
    "print(type(room.exterior.coords[0]))"
   ]
  },
  {
   "cell_type": "markdown",
   "metadata": {},
   "source": [
    "## Point\n",
    "useful, but not flexible enough"
   ]
  },
  {
   "cell_type": "code",
   "execution_count": 56,
   "metadata": {},
   "outputs": [
    {
     "name": "stdout",
     "output_type": "stream",
     "text": [
      "POINT (10.1 20.1)\n",
      "POLYGON ((10 20, 15 20, 15 25, 10 25, 10 20))\n",
      "True\n",
      "POINT (12.1 23.1)\n"
     ]
    }
   ],
   "source": [
    "from shapely.geometry import Point\n",
    "\n",
    "vertex = Point(10.1, 20.1)\n",
    "print(vertex)\n",
    "\n",
    "room = Polygon([Point(10, 20), Point(15, 20), Point(15, 25), Point(10, 25)])\n",
    "print(room)\n",
    "print(vertex.within(room))  # True\n",
    "\n",
    "vertex = Point(vertex.x + 2, vertex.y + 3)\n",
    "print(vertex)"
   ]
  },
  {
   "cell_type": "markdown",
   "metadata": {},
   "source": [
    "# Matplotlib"
   ]
  },
  {
   "cell_type": "code",
   "execution_count": 57,
   "metadata": {},
   "outputs": [
    {
     "data": {
      "image/png": "[encoded data removed]",
      "text/plain": [
       "<Figure size 640x480 with 1 Axes>"
      ]
     },
     "metadata": {},
     "output_type": "display_data"
    }
   ],
   "source": [
    "rooms = [room, new_room]\n",
    "def draw_polygons(rooms):\n",
    "    import matplotlib.pyplot as plt\n",
    "    for room in rooms:\n",
    "        x, y = room.exterior.xy\n",
    "        plt.fill(x, y, alpha=0.1)\n",
    "        plt.plot(x, y)\n",
    "    plt.show()\n",
    "\n",
    "draw_polygons(rooms)\n"
   ]
  },
  {
   "cell_type": "markdown",
   "metadata": {},
   "source": [
    "# NetworkX"
   ]
  },
  {
   "cell_type": "code",
   "execution_count": 58,
   "metadata": {},
   "outputs": [
    {
     "name": "stdout",
     "output_type": "stream",
     "text": [
      "False\n"
     ]
    }
   ],
   "source": [
    "import networkx as nx\n",
    "\n",
    "# define the connection of the rooms\n",
    "floor_plan = nx.Graph()\n",
    "floor_plan.add_edges_from([\n",
    "    (\"Living Room\", \"Kitchen\"),\n",
    "    (\"Living Room\", \"Bedroom\"),\n",
    "    (\"Bedroom\", \"Bathroom\"),\n",
    "    (\"Laundry\", \"Hallway\"),\n",
    "])\n",
    "\n",
    "print(nx.is_connected(floor_plan))  # check if the graph one single connected component"
   ]
  },
  {
   "cell_type": "code",
   "execution_count": 59,
   "metadata": {},
   "outputs": [
    {
     "data": {
      "image/png": "[encoded data removed]",
      "text/plain": [
       "<Figure size 640x480 with 1 Axes>"
      ]
     },
     "metadata": {},
     "output_type": "display_data"
    }
   ],
   "source": [
    "# print floor_plan\n",
    "import matplotlib.pyplot as plt\n",
    "pos = nx.spring_layout(floor_plan)\n",
    "nx.draw_networkx_nodes(floor_plan, pos)\n",
    "nx.draw_networkx_edges(floor_plan, pos)\n",
    "nx.draw_networkx_labels(floor_plan, pos)\n",
    "plt.show()"
   ]
  },
  {
   "cell_type": "markdown",
   "metadata": {},
   "source": [
    "# Pygame  \n",
    "**Later**, develop an interactive interface"
   ]
  },
  {
   "cell_type": "code",
   "execution_count": 60,
   "metadata": {},
   "outputs": [],
   "source": [
    "# import pygame\n",
    "\n",
    "# pygame.init()\n",
    "# screen = pygame.display.set_mode((500, 500))\n",
    "\n",
    "# # create a room\n",
    "# room = pygame.Rect(50, 50, 100, 150)\n",
    "\n",
    "# running = True\n",
    "# while running:\n",
    "#     for event in pygame.event.get():\n",
    "#         if event.type == pygame.QUIT:\n",
    "#             running = False\n",
    "\n",
    "#     screen.fill((255, 255, 255))\n",
    "#     pygame.draw.rect(screen, (200, 100, 100), room)\n",
    "#     pygame.display.flip()\n",
    "\n",
    "# pygame.quit()\n"
   ]
  },
  {
   "cell_type": "markdown",
   "metadata": {},
   "source": [
    "# Generate"
   ]
  },
  {
   "cell_type": "code",
   "execution_count": 61,
   "metadata": {},
   "outputs": [],
   "source": [
    "from shapely.geometry import Polygon\n",
    "\n",
    "class Room:\n",
    "    def __init__(self, room_type, x, y, width, height):\n",
    "        self.room_type = room_type\n",
    "        self.x = x\n",
    "        self.y = y\n",
    "        self.width = width\n",
    "        self.height = height\n",
    "        self.polygon = Polygon([(x, y), (x, y + height), (x + width, y + height), (x + width, y)])\n",
    "\n",
    "    def __str__(self):\n",
    "        return f\"Room {self.room_type}: {self.polygon.exterior.coords[:]}\"\n",
    "\n",
    "    def __repr__(self):\n",
    "        return str(self)"
   ]
  },
  {
   "cell_type": "markdown",
   "metadata": {},
   "source": [
    "# some constraints\n",
    "## house constraints"
   ]
  },
  {
   "cell_type": "code",
   "execution_count": 62,
   "metadata": {},
   "outputs": [],
   "source": [
    "min_house_width = 10\n",
    "max_house_width = 20\n",
    "min_house_depth = 15\n",
    "max_house_depth = 40"
   ]
  },
  {
   "cell_type": "markdown",
   "metadata": {},
   "source": [
    "## room constraints"
   ]
  },
  {
   "cell_type": "code",
   "execution_count": 124,
   "metadata": {},
   "outputs": [],
   "source": [
    "min_room_width = 1\n",
    "max_room_width = 6\n",
    "min_room_depth = 2\n",
    "max_room_depth = 8"
   ]
  },
  {
   "cell_type": "code",
   "execution_count": 125,
   "metadata": {},
   "outputs": [],
   "source": [
    "# Generate a room\n",
    "def generate_room(type, x, y, width, height):\n",
    "    return Room(type, x, y, width, height)\n",
    "\n",
    "# Seems useless, might as will create a new room\n",
    "def adjust_room_position(room, direction):\n",
    "    # direction_x, direction_y\n",
    "    d_x, d_y = direction\n",
    "    # change all x, y coordinates of the room's polygon\n",
    "    room.polygon = Polygon([(x + d_x, y + d_y) for x, y in room.polygon.exterior.coords])"
   ]
  },
  {
   "cell_type": "code",
   "execution_count": 126,
   "metadata": {},
   "outputs": [
    {
     "name": "stdout",
     "output_type": "stream",
     "text": [
      "Room living_room: [(0.0, 0.0), (0.0, 4.0), (4.0, 4.0), (4.0, 0.0), (0.0, 0.0)]\n",
      "Room living_room: [(1.0, 1.0), (1.0, 5.0), (5.0, 5.0), (5.0, 1.0), (1.0, 1.0)]\n"
     ]
    }
   ],
   "source": [
    "# test adjust_room_position function\n",
    "room = generate_room('living_room', 0, 0, 4, 4)\n",
    "print(room)\n",
    "adjust_room_position(room, (1, 1))\n",
    "print(room)"
   ]
  },
  {
   "cell_type": "code",
   "execution_count": 127,
   "metadata": {},
   "outputs": [],
   "source": [
    "# check candidate room's overlap with existing rooms\n",
    "def check_overlap(new_room, existing_rooms):\n",
    "    for room in existing_rooms:\n",
    "        # because intersect: overlap + touch + within\n",
    "        if new_room.polygon.intersects(room.polygon) and not new_room.polygon.touches(room.polygon):\n",
    "            if room.room_type == 'Living Room':\n",
    "                room.polygon = room.polygon.difference(new_room.polygon)\n",
    "                continue\n",
    "            else:\n",
    "                return True\n",
    "    return False\n",
    "\n",
    "import networkx as nx\n",
    "\n",
    "# check candidate room's connection with existing rooms\n",
    "# only one cluster is allowed\n",
    "def check_single_cluster(new_room, existing_rooms):\n",
    "    # check if the new room is connected and one cluster\n",
    "    adjacent_graph = nx.Graph()\n",
    "    adjacent_graph.add_node(new_room)\n",
    "    cropped_lv_room = None\n",
    "\n",
    "    for room in existing_rooms:\n",
    "        adjacent_graph.add_node(room)\n",
    "        # if the new room touches the existing room\n",
    "        if new_room.polygon.touches(room.polygon):\n",
    "            adjacent_graph.add_edge(new_room, room)\n",
    "        # if the new room overlaps the existing room\n",
    "        elif new_room.polygon.intersects(room.polygon):\n",
    "            if room.room_type == 'Living Room':\n",
    "                # print('cutting living room')\n",
    "                cropped_lv_room = room.polygon.difference(new_room.polygon)\n",
    "                # continue\n",
    "            else:\n",
    "                return False\n",
    "    # if the new room overlaps with the living room\n",
    "    # the living room should be replaced by the cropped room \n",
    "    if nx.is_connected(adjacent_graph):\n",
    "        if cropped_lv_room is not None:\n",
    "            for room in existing_rooms:\n",
    "                if room.room_type == 'Living Room':\n",
    "                    print('replacing living room')\n",
    "                    room.polygon = cropped_lv_room\n",
    "        return True\n",
    "    else:\n",
    "        return False"
   ]
  },
  {
   "cell_type": "code",
   "execution_count": 128,
   "metadata": {},
   "outputs": [],
   "source": [
    "import matplotlib.pyplot as plt\n",
    "from shapely.geometry import Polygon, MultiPolygon\n",
    "\n",
    "def draw_polygon(polygon):\n",
    "    # if multi-polygon, draw all polygons\n",
    "    if polygon.geom_type == 'MultiPolygon':\n",
    "        for sub_polygon in polygon.geoms:\n",
    "            x, y = sub_polygon.exterior.xy\n",
    "            plt.fill(x, y, alpha=0.1)\n",
    "            plt.plot(x, y)\n",
    "    else:\n",
    "        x, y = polygon.exterior.xy\n",
    "        plt.fill(x, y, alpha=0.1)\n",
    "        plt.plot(x, y)\n",
    "    \n",
    "def draw_rooms(rooms):\n",
    "    print('Number of rooms:', len(rooms))\n",
    "    for room in rooms:\n",
    "        draw_polygon(room.polygon)\n",
    "    plt.gca().set_aspect('equal', adjustable='box')\n",
    "    plt.gca().spines['right'].set_visible(False)\n",
    "    plt.gca().spines['top'].set_visible(False)\n",
    "    plt.show()"
   ]
  },
  {
   "cell_type": "code",
   "execution_count": null,
   "metadata": {},
   "outputs": [
    {
     "name": "stdout",
     "output_type": "stream",
     "text": [
      "Dining Room placed!\n",
      "Number of rooms: 2\n"
     ]
    },
    {
     "data": {
      "image/png": "[encoded data removed]",
      "text/plain": [
       "<Figure size 640x480 with 1 Axes>"
      ]
     },
     "metadata": {},
     "output_type": "display_data"
    },
    {
     "name": "stdout",
     "output_type": "stream",
     "text": [
      "Master Bedroom placed!\n",
      "Number of rooms: 3\n"
     ]
    },
    {
     "data": {
      "image/png": "[encoded data removed]",
      "text/plain": [
       "<Figure size 640x480 with 1 Axes>"
      ]
     },
     "metadata": {},
     "output_type": "display_data"
    },
    {
     "name": "stdout",
     "output_type": "stream",
     "text": [
      "Kitchen placed!\n",
      "Number of rooms: 4\n"
     ]
    },
    {
     "data": {
      "image/png": "[encoded data removed]",
      "text/plain": [
       "<Figure size 640x480 with 1 Axes>"
      ]
     },
     "metadata": {},
     "output_type": "display_data"
    }
   ],
   "source": [
    "import random\n",
    "\n",
    "# Generate a random reasonable house plan\n",
    "def generate_random_house():\n",
    "    placed_rooms = []\n",
    "    # first room is the living room\n",
    "    x, y = random.randint(0, 15), random.randint(0, 15)\n",
    "    width_LR = random.randint(1, 6)\n",
    "    depth_LR = random.randint(2, 8)\n",
    "    placed_rooms.append(generate_room(\"Living Room\", x, y, width_LR, depth_LR))\n",
    "\n",
    "    room_types = [\"Dining Room\", \"Master Bedroom\", \"Kitchen\", \"Bedroom\", \"Bathroom\", \"Hallway\", \"Balcony\"]\n",
    "    directions = [(1, 0), (0, 1), (-1, 0), (0, -1)]  # Right, Up, Left, Down\n",
    "    for room_type in room_types:\n",
    "        while True:\n",
    "            width, height = random.randint(min_room_width, max_room_width), random.randint(min_room_depth, max_room_depth)\n",
    "            x, y = random.randint(0, 15), random.randint(0, 15)\n",
    "            new_room = generate_room(room_type, x, y, width, height)\n",
    "            if check_single_cluster(new_room, placed_rooms):\n",
    "                break\n",
    "\n",
    "        placed_rooms.append(new_room)\n",
    "        print(f'{new_room.room_type} placed!')\n",
    "        draw_rooms(placed_rooms)\n",
    "            \n",
    "    return placed_rooms\n",
    "\n",
    "random_house = generate_random_house()"
   ]
  }
 ],
 "metadata": {
  "kernelspec": {
   "display_name": "research",
   "language": "python",
   "name": "python3"
  },
  "language_info": {
   "codemirror_mode": {
    "name": "ipython",
    "version": 3
   },
   "file_extension": ".py",
   "mimetype": "text/x-python",
   "name": "python",
   "nbconvert_exporter": "python",
   "pygments_lexer": "ipython3",
   "version": "3.12.7"
  }
 },
 "nbformat": 4,
 "nbformat_minor": 2
}
