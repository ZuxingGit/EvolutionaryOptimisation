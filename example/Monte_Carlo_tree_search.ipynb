{
 "cells": [
  {
   "cell_type": "markdown",
   "metadata": {},
   "source": [
    "# Monte Carlo Tree Search (MCTS)"
   ]
  },
  {
   "cell_type": "code",
   "execution_count": 2,
   "metadata": {},
   "outputs": [
    {
     "name": "stdout",
     "output_type": "stream",
     "text": [
      "Best move has 9 moves left.\n"
     ]
    }
   ],
   "source": [
    "import math\n",
    "import random\n",
    "\n",
    "class Node:\n",
    "    def __init__(self, state, parent=None):\n",
    "        self.state = state\n",
    "        self.parent = parent\n",
    "        self.children = []\n",
    "        self.visits = 0\n",
    "        self.wins = 0\n",
    "\n",
    "    def add_child(self, child_state):\n",
    "        child = Node(child_state, self)\n",
    "        self.children.append(child)\n",
    "        return child\n",
    "\n",
    "    def update(self, result):\n",
    "        self.visits += 1\n",
    "        self.wins += result\n",
    "\n",
    "    def fully_expanded(self):\n",
    "        return len(self.children) == len(self.state.possible_moves())\n",
    "\n",
    "    def best_child(self, c_param=1.4):\n",
    "        choices_weights = [\n",
    "            (child.wins / child.visits) + c_param * math.sqrt((2 * math.log(self.visits) / child.visits))\n",
    "            for child in self.children\n",
    "        ]\n",
    "        return self.children[choices_weights.index(max(choices_weights))]\n",
    "\n",
    "class MCTS:\n",
    "    def __init__(self, iterations=1000):\n",
    "        self.iterations = iterations\n",
    "\n",
    "    def search(self, initial_state):\n",
    "        root = Node(initial_state)\n",
    "\n",
    "        for _ in range(self.iterations):\n",
    "            node = self._select(root)\n",
    "            if not node.fully_expanded():\n",
    "                node = self._expand(node)\n",
    "            result = self._simulate(node)\n",
    "            self._backpropagate(node, result)\n",
    "\n",
    "        return root.best_child(c_param=0)\n",
    "\n",
    "    def _select(self, node):\n",
    "        while node.fully_expanded() and node.children:\n",
    "            node = node.best_child()\n",
    "        return node\n",
    "\n",
    "    def _expand(self, node):\n",
    "        tried_states = [child.state for child in node.children]\n",
    "        new_state = random.choice([move for move in node.state.possible_moves() if move not in tried_states])\n",
    "        return node.add_child(new_state)\n",
    "\n",
    "    def _simulate(self, node):\n",
    "        current_state = node.state\n",
    "        while not current_state.is_terminal():\n",
    "            current_state = random.choice(current_state.possible_moves())\n",
    "        return current_state.result()\n",
    "\n",
    "    def _backpropagate(self, node, result):\n",
    "        while node is not None:\n",
    "            node.update(result)\n",
    "            node = node.parent\n",
    "\n",
    "class SimpleGameState:\n",
    "    def __init__(self, moves_left):\n",
    "        self.moves_left = moves_left\n",
    "\n",
    "    def possible_moves(self):\n",
    "        return [SimpleGameState(self.moves_left - 1) for _ in range(self.moves_left)]\n",
    "\n",
    "    def is_terminal(self):\n",
    "        return self.moves_left == 0\n",
    "\n",
    "    def result(self):\n",
    "        return 1 if self.moves_left % 2 == 0 else 0\n",
    "\n",
    "# Example usage\n",
    "initial_state = SimpleGameState(10)\n",
    "mcts = MCTS(iterations=1000)\n",
    "best_move = mcts.search(initial_state)\n",
    "print(f\"Best move has {best_move.state.moves_left} moves left.\")"
   ]
  }
 ],
 "metadata": {
  "kernelspec": {
   "display_name": "Python 3",
   "language": "python",
   "name": "python3"
  },
  "language_info": {
   "codemirror_mode": {
    "name": "ipython",
    "version": 3
   },
   "file_extension": ".py",
   "mimetype": "text/x-python",
   "name": "python",
   "nbconvert_exporter": "python",
   "pygments_lexer": "ipython3",
   "version": "3.12.4"
  }
 },
 "nbformat": 4,
 "nbformat_minor": 2
}
